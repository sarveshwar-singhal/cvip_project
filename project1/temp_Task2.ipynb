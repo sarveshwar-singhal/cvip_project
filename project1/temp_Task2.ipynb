{
 "cells": [
  {
   "cell_type": "code",
   "execution_count": 1,
   "id": "d403e2ff",
   "metadata": {},
   "outputs": [],
   "source": [
    "import numpy as np"
   ]
  },
  {
   "cell_type": "code",
   "execution_count": 2,
   "id": "08d00ec8",
   "metadata": {},
   "outputs": [],
   "source": [
    "from cv2 import imread, cvtColor, COLOR_BGR2GRAY, TERM_CRITERIA_EPS, TERM_CRITERIA_MAX_ITER, \\\n",
    "    findChessboardCorners, cornerSubPix, drawChessboardCorners"
   ]
  },
  {
   "cell_type": "code",
   "execution_count": null,
   "id": "802eb9c8",
   "metadata": {},
   "outputs": [],
   "source": [
    "drawChessboardCorners"
   ]
  }
 ],
 "metadata": {
  "kernelspec": {
   "display_name": "py3.8",
   "language": "python",
   "name": "py3.8"
  },
  "language_info": {
   "codemirror_mode": {
    "name": "ipython",
    "version": 3
   },
   "file_extension": ".py",
   "mimetype": "text/x-python",
   "name": "python",
   "nbconvert_exporter": "python",
   "pygments_lexer": "ipython3",
   "version": "3.8.10"
  }
 },
 "nbformat": 4,
 "nbformat_minor": 5
}
