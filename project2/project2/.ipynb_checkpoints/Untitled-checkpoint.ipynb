{
 "cells": [
  {
   "cell_type": "code",
   "execution_count": 1,
   "id": "945596c3",
   "metadata": {},
   "outputs": [],
   "source": [
    "import numpy as np\n",
    "import cv2"
   ]
  },
  {
   "cell_type": "code",
   "execution_count": 2,
   "id": "5fc8fb66",
   "metadata": {},
   "outputs": [],
   "source": [
    "from cv2 import imshow, imread, imshow, IMREAD_GRAYSCALE"
   ]
  },
  {
   "cell_type": "code",
   "execution_count": 9,
   "id": "686762e7",
   "metadata": {},
   "outputs": [],
   "source": [
    "from cv2 import imread, imwrite, imshow, IMREAD_GRAYSCALE, namedWindow, waitKey, destroyAllWindows"
   ]
  },
  {
   "cell_type": "code",
   "execution_count": 3,
   "id": "c2b9e64a",
   "metadata": {},
   "outputs": [],
   "source": [
    "from cv2 import IMREAD_GRAYSCALE"
   ]
  },
  {
   "cell_type": "code",
   "execution_count": 4,
   "id": "5c84be35",
   "metadata": {},
   "outputs": [],
   "source": [
    "import sys"
   ]
  },
  {
   "cell_type": "code",
   "execution_count": 5,
   "id": "f61a8f59",
   "metadata": {},
   "outputs": [
    {
     "data": {
      "text/plain": [
       "'3.7.12 (default, Sep 10 2021, 00:20:04) \\n[GCC 9.3.0]'"
      ]
     },
     "execution_count": 5,
     "metadata": {},
     "output_type": "execute_result"
    }
   ],
   "source": [
    "sys.version"
   ]
  },
  {
   "cell_type": "code",
   "execution_count": 6,
   "id": "e50c7c2a",
   "metadata": {},
   "outputs": [],
   "source": [
    "img = cv2.imread('task2.png', IMREAD_GRAYSCALE)"
   ]
  },
  {
   "cell_type": "code",
   "execution_count": null,
   "id": "8e4d4b91",
   "metadata": {},
   "outputs": [],
   "source": []
  },
  {
   "cell_type": "code",
   "execution_count": 7,
   "id": "76828d0b",
   "metadata": {},
   "outputs": [
    {
     "data": {
      "text/plain": [
       "array([[254, 255, 255, ..., 251, 252, 255],\n",
       "       [255, 255, 236, ..., 247, 253, 254],\n",
       "       [255, 246, 205, ..., 213, 230, 247],\n",
       "       ...,\n",
       "       [215, 187, 184, ..., 199, 235, 254],\n",
       "       [228, 204, 179, ..., 212, 246, 255],\n",
       "       [234, 228, 209, ..., 236, 255, 254]], dtype=uint8)"
      ]
     },
     "execution_count": 7,
     "metadata": {},
     "output_type": "execute_result"
    }
   ],
   "source": [
    "img"
   ]
  },
  {
   "cell_type": "code",
   "execution_count": 56,
   "id": "908dc200",
   "metadata": {},
   "outputs": [
    {
     "data": {
      "text/plain": [
       "(442, 700)"
      ]
     },
     "execution_count": 56,
     "metadata": {},
     "output_type": "execute_result"
    }
   ],
   "source": [
    "img.shape"
   ]
  },
  {
   "cell_type": "code",
   "execution_count": 59,
   "id": "a63e61fd",
   "metadata": {},
   "outputs": [],
   "source": [
    "filter_img = np.empty([0,img.shape[1]], dtype='uint8')\n",
    "pad_top = np.array(np.zeros([1, img.shape[1]], dtype='uint8'))\n",
    "# pad_top = np.array(np.zeros([1, img.shape[1]]))\n",
    "pad_img = np.append(pad_top, img, axis=0)\n",
    "pad_img = np.append(pad_img, pad_top, axis=0)\n",
    "pad_left = np.array(np.zeros([pad_img.shape[0],1], dtype='uint8'))\n",
    "# pad_left = np.array(np.zeros([pad_img.shape[0],1]))\n",
    "pad_img = np.append(pad_left, pad_img, axis=1)\n",
    "pad_img = np.append(pad_img, pad_left, axis=1)"
   ]
  },
  {
   "cell_type": "code",
   "execution_count": 64,
   "id": "69751da8",
   "metadata": {},
   "outputs": [
    {
     "data": {
      "text/plain": [
       "(444, 702)"
      ]
     },
     "execution_count": 64,
     "metadata": {},
     "output_type": "execute_result"
    }
   ],
   "source": [
    "pad_img.shape\n",
    "# pad_img"
   ]
  },
  {
   "cell_type": "code",
   "execution_count": 68,
   "id": "ca4bb69b",
   "metadata": {},
   "outputs": [],
   "source": [
    "for i in range(1, pad_img.shape[0]-1):\n",
    "    row = []\n",
    "    for j in range(1, pad_img.shape[1]-1):\n",
    "        med_filter = pad_img[i-1:i+2, j-1:j+2]\n",
    "        row.append(np.median(med_filter))\n",
    "    row = np.array(row, dtype='uint8')\n",
    "    row = row.reshape(1,row.shape[0])\n",
    "    filter_img = np.append(filter_img, row, axis=0)"
   ]
  },
  {
   "cell_type": "code",
   "execution_count": 74,
   "id": "241f124a",
   "metadata": {},
   "outputs": [],
   "source": [
    "# for i in range(1, pad_img.shape[0]):\n",
    "#     print(i)\n",
    "new = pad_img[0:3, 0:3]"
   ]
  },
  {
   "cell_type": "code",
   "execution_count": 75,
   "id": "c24441f7",
   "metadata": {},
   "outputs": [
    {
     "data": {
      "text/plain": [
       "array([[  0,   0,   0],\n",
       "       [  0, 254, 255],\n",
       "       [  0, 255, 255]], dtype=uint8)"
      ]
     },
     "execution_count": 75,
     "metadata": {},
     "output_type": "execute_result"
    }
   ],
   "source": [
    "new"
   ]
  },
  {
   "cell_type": "code",
   "execution_count": 77,
   "id": "3c78dcd8",
   "metadata": {},
   "outputs": [
    {
     "data": {
      "text/plain": [
       "array([[255, 255,   0],\n",
       "       [255, 254,   0],\n",
       "       [  0,   0,   0]], dtype=uint8)"
      ]
     },
     "execution_count": 77,
     "metadata": {},
     "output_type": "execute_result"
    }
   ],
   "source": [
    "np.flip(new)"
   ]
  },
  {
   "cell_type": "code",
   "execution_count": 84,
   "id": "39383020",
   "metadata": {},
   "outputs": [],
   "source": [
    "new_img = np.pad(img, (1,1), 'constant', constant_values=(0,0))"
   ]
  },
  {
   "cell_type": "code",
   "execution_count": 105,
   "id": "b020794b",
   "metadata": {},
   "outputs": [
    {
     "data": {
      "text/plain": [
       "array([[  0,   0,   0, ...,   0,   0,   0],\n",
       "       [  0, 254, 255, ..., 252, 255,   0],\n",
       "       [  0, 255, 255, ..., 253, 254,   0],\n",
       "       ...,\n",
       "       [  0, 228, 204, ..., 246, 255,   0],\n",
       "       [  0, 234, 228, ..., 255, 254,   0],\n",
       "       [  0,   0,   0, ...,   0,   0,   0]], dtype=uint8)"
      ]
     },
     "execution_count": 105,
     "metadata": {},
     "output_type": "execute_result"
    }
   ],
   "source": [
    "new_img"
   ]
  },
  {
   "cell_type": "code",
   "execution_count": 85,
   "id": "88d3a421",
   "metadata": {},
   "outputs": [
    {
     "data": {
      "text/plain": [
       "(444, 702)"
      ]
     },
     "execution_count": 85,
     "metadata": {},
     "output_type": "execute_result"
    }
   ],
   "source": [
    "new_img.shape"
   ]
  },
  {
   "cell_type": "code",
   "execution_count": null,
   "id": "c25c3e2a",
   "metadata": {},
   "outputs": [],
   "source": []
  },
  {
   "cell_type": "code",
   "execution_count": 51,
   "id": "9f2595bf",
   "metadata": {},
   "outputs": [
    {
     "data": {
      "text/plain": [
       "array([], shape=(0, 4), dtype=float64)"
      ]
     },
     "execution_count": 51,
     "metadata": {},
     "output_type": "execute_result"
    }
   ],
   "source": [
    "np.empty([0,4])"
   ]
  },
  {
   "cell_type": "code",
   "execution_count": null,
   "id": "75ef6a1c",
   "metadata": {},
   "outputs": [],
   "source": []
  },
  {
   "cell_type": "code",
   "execution_count": 104,
   "id": "09daf27b",
   "metadata": {},
   "outputs": [],
   "source": [
    "normal = cv2.imread('results/task2_denoise1.jpg', IMREAD_GRAYSCALE)\n",
    "short = cv2.imread('results/task2_denoise.jpg', IMREAD_GRAYSCALE)\n",
    "arr = np.array([1,2,3,4,5,6])\n",
    "brr = arr.copy()\n",
    "x = brr == arr\n",
    "x = normal == short\n",
    "# print(type(x[1]))\n",
    "for val in x:\n",
    "#     print(val)\n",
    "#     print(val.all())\n",
    "    if bool(val.all()) is not True:\n",
    "        print(1)\n",
    "# arr = arr.reshape(1,arr.shape[0])\n",
    "# arr.shape\n",
    "# np.append(arr,brr, axis=)\n",
    "# arr = np.array([1.0,2.0,3.0,4.0], 'uint8')\n",
    "# arr.dtype"
   ]
  },
  {
   "cell_type": "code",
   "execution_count": 103,
   "id": "4a919a4f",
   "metadata": {},
   "outputs": [
    {
     "name": "stdout",
     "output_type": "stream",
     "text": [
      "False\n"
     ]
    }
   ],
   "source": [
    "arr = np.array([1,2,3,4,5,6])\n",
    "brr = arr.copy()\n",
    "brr[1] = 1\n",
    "x = brr == arr\n",
    "print(x.all())"
   ]
  },
  {
   "cell_type": "code",
   "execution_count": 115,
   "id": "064e444b",
   "metadata": {},
   "outputs": [],
   "source": [
    "a = np.arange(6).reshape(2,3)\n",
    "b = a.copy()"
   ]
  },
  {
   "cell_type": "code",
   "execution_count": 116,
   "id": "db387336",
   "metadata": {},
   "outputs": [
    {
     "data": {
      "text/plain": [
       "(array([[0, 1, 2],\n",
       "        [3, 4, 5]]),\n",
       " array([[0, 1, 2],\n",
       "        [3, 4, 5]]))"
      ]
     },
     "execution_count": 116,
     "metadata": {},
     "output_type": "execute_result"
    }
   ],
   "source": [
    "a,b"
   ]
  },
  {
   "cell_type": "code",
   "execution_count": 117,
   "id": "5863aa03",
   "metadata": {},
   "outputs": [
    {
     "data": {
      "text/plain": [
       "array([[ 5, 14],\n",
       "       [14, 50]])"
      ]
     },
     "execution_count": 117,
     "metadata": {},
     "output_type": "execute_result"
    }
   ],
   "source": [
    "np.inner(a,b)"
   ]
  },
  {
   "cell_type": "code",
   "execution_count": null,
   "id": "a4f2534f",
   "metadata": {},
   "outputs": [],
   "source": []
  },
  {
   "cell_type": "code",
   "execution_count": null,
   "id": "83b600f1",
   "metadata": {},
   "outputs": [],
   "source": []
  },
  {
   "cell_type": "code",
   "execution_count": null,
   "id": "e86d38bf",
   "metadata": {},
   "outputs": [],
   "source": [
    "np.all()"
   ]
  },
  {
   "cell_type": "code",
   "execution_count": 70,
   "id": "8a70da4c",
   "metadata": {},
   "outputs": [
    {
     "data": {
      "text/plain": [
       "True"
      ]
     },
     "execution_count": 70,
     "metadata": {},
     "output_type": "execute_result"
    }
   ],
   "source": [
    "cv2.imwrite('abc.jpg',filter_img)"
   ]
  },
  {
   "cell_type": "code",
   "execution_count": 6,
   "id": "6b93124f",
   "metadata": {},
   "outputs": [],
   "source": [
    "img1 = cv2.imread('task2.png')"
   ]
  },
  {
   "cell_type": "code",
   "execution_count": 7,
   "id": "3cb903a7",
   "metadata": {},
   "outputs": [
    {
     "data": {
      "text/plain": [
       "array([[[254, 254, 254],\n",
       "        [255, 255, 255],\n",
       "        [255, 255, 255],\n",
       "        ...,\n",
       "        [251, 251, 251],\n",
       "        [252, 252, 252],\n",
       "        [255, 255, 255]],\n",
       "\n",
       "       [[255, 255, 255],\n",
       "        [255, 255, 255],\n",
       "        [236, 236, 236],\n",
       "        ...,\n",
       "        [247, 247, 247],\n",
       "        [253, 253, 253],\n",
       "        [254, 254, 254]],\n",
       "\n",
       "       [[255, 255, 255],\n",
       "        [246, 246, 246],\n",
       "        [205, 205, 205],\n",
       "        ...,\n",
       "        [213, 213, 213],\n",
       "        [230, 230, 230],\n",
       "        [247, 247, 247]],\n",
       "\n",
       "       ...,\n",
       "\n",
       "       [[215, 215, 215],\n",
       "        [187, 187, 187],\n",
       "        [184, 184, 184],\n",
       "        ...,\n",
       "        [199, 199, 199],\n",
       "        [235, 235, 235],\n",
       "        [254, 254, 254]],\n",
       "\n",
       "       [[228, 228, 228],\n",
       "        [204, 204, 204],\n",
       "        [179, 179, 179],\n",
       "        ...,\n",
       "        [212, 212, 212],\n",
       "        [246, 246, 246],\n",
       "        [255, 255, 255]],\n",
       "\n",
       "       [[234, 234, 234],\n",
       "        [228, 228, 228],\n",
       "        [209, 209, 209],\n",
       "        ...,\n",
       "        [236, 236, 236],\n",
       "        [255, 255, 255],\n",
       "        [254, 254, 254]]], dtype=uint8)"
      ]
     },
     "execution_count": 7,
     "metadata": {},
     "output_type": "execute_result"
    }
   ],
   "source": [
    "img1"
   ]
  },
  {
   "cell_type": "code",
   "execution_count": 10,
   "id": "950cd79a",
   "metadata": {},
   "outputs": [
    {
     "data": {
      "text/plain": [
       "True"
      ]
     },
     "execution_count": 10,
     "metadata": {},
     "output_type": "execute_result"
    }
   ],
   "source": [
    "cv2.imwrite('abc.jpg',img1[:,:,2])"
   ]
  },
  {
   "cell_type": "code",
   "execution_count": 11,
   "id": "67c43fc7",
   "metadata": {},
   "outputs": [
    {
     "data": {
      "text/plain": [
       "array([[254, 254, 254],\n",
       "       [255, 255, 255],\n",
       "       [255, 255, 255],\n",
       "       ...,\n",
       "       [251, 251, 251],\n",
       "       [252, 252, 252],\n",
       "       [255, 255, 255]], dtype=uint8)"
      ]
     },
     "execution_count": 11,
     "metadata": {},
     "output_type": "execute_result"
    }
   ],
   "source": [
    "img1[0]"
   ]
  },
  {
   "cell_type": "code",
   "execution_count": null,
   "id": "acae145d",
   "metadata": {},
   "outputs": [],
   "source": []
  }
 ],
 "metadata": {
  "kernelspec": {
   "display_name": "cvip_base",
   "language": "python",
   "name": "cvip_base"
  },
  "language_info": {
   "codemirror_mode": {
    "name": "ipython",
    "version": 3
   },
   "file_extension": ".py",
   "mimetype": "text/x-python",
   "name": "python",
   "nbconvert_exporter": "python",
   "pygments_lexer": "ipython3",
   "version": "3.7.12"
  }
 },
 "nbformat": 4,
 "nbformat_minor": 5
}
