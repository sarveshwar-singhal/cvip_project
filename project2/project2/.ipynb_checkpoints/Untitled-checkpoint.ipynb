{
 "cells": [
  {
   "cell_type": "code",
   "execution_count": 1,
   "id": "945596c3",
   "metadata": {},
   "outputs": [],
   "source": [
    "import numpy as np\n",
    "import cv2"
   ]
  },
  {
   "cell_type": "code",
   "execution_count": 2,
   "id": "5fc8fb66",
   "metadata": {},
   "outputs": [],
   "source": [
    "from cv2 import imshow, imread, imshow, IMREAD_GRAYSCALE"
   ]
  },
  {
   "cell_type": "code",
   "execution_count": 9,
   "id": "686762e7",
   "metadata": {},
   "outputs": [],
   "source": [
    "from cv2 import imread, imwrite, imshow, IMREAD_GRAYSCALE, namedWindow, waitKey, destroyAllWindows"
   ]
  },
  {
   "cell_type": "code",
   "execution_count": 3,
   "id": "c2b9e64a",
   "metadata": {},
   "outputs": [],
   "source": [
    "from cv2 import IMREAD_GRAYSCALE"
   ]
  },
  {
   "cell_type": "code",
   "execution_count": 4,
   "id": "5c84be35",
   "metadata": {},
   "outputs": [],
   "source": [
    "import sys"
   ]
  },
  {
   "cell_type": "code",
   "execution_count": 5,
   "id": "f61a8f59",
   "metadata": {},
   "outputs": [
    {
     "data": {
      "text/plain": [
       "'3.7.12 (default, Sep 10 2021, 00:20:04) \\n[GCC 9.3.0]'"
      ]
     },
     "execution_count": 5,
     "metadata": {},
     "output_type": "execute_result"
    }
   ],
   "source": [
    "sys.version"
   ]
  },
  {
   "cell_type": "code",
   "execution_count": 6,
   "id": "e50c7c2a",
   "metadata": {},
   "outputs": [],
   "source": [
    "img = cv2.imread('task2.png', IMREAD_GRAYSCALE)"
   ]
  },
  {
   "cell_type": "code",
   "execution_count": null,
   "id": "8e4d4b91",
   "metadata": {},
   "outputs": [],
   "source": []
  },
  {
   "cell_type": "code",
   "execution_count": 7,
   "id": "76828d0b",
   "metadata": {},
   "outputs": [
    {
     "data": {
      "text/plain": [
       "array([[254, 255, 255, ..., 251, 252, 255],\n",
       "       [255, 255, 236, ..., 247, 253, 254],\n",
       "       [255, 246, 205, ..., 213, 230, 247],\n",
       "       ...,\n",
       "       [215, 187, 184, ..., 199, 235, 254],\n",
       "       [228, 204, 179, ..., 212, 246, 255],\n",
       "       [234, 228, 209, ..., 236, 255, 254]], dtype=uint8)"
      ]
     },
     "execution_count": 7,
     "metadata": {},
     "output_type": "execute_result"
    }
   ],
   "source": [
    "img"
   ]
  },
  {
   "cell_type": "code",
   "execution_count": 10,
   "id": "c88c2912",
   "metadata": {},
   "outputs": [
    {
     "data": {
      "text/plain": [
       "(442, 700)"
      ]
     },
     "execution_count": 10,
     "metadata": {},
     "output_type": "execute_result"
    }
   ],
   "source": [
    "img.shape"
   ]
  },
  {
   "cell_type": "code",
   "execution_count": 27,
   "id": "1e4f18ff",
   "metadata": {},
   "outputs": [],
   "source": [
    "pad_top = np.array(np.zeros([1, img.shape[1]], dtype='uint8'))\n",
    "# pad_top = np.array(np.zeros([1, img.shape[1]]))\n",
    "pad_img = np.append(pad_top, img, axis=0)\n",
    "pad_img = np.append(pad_img, pad_top, axis=0)\n",
    "pad_left = np.array(np.zeros([pad_img.shape[0],1], dtype='uint8'))\n",
    "# pad_left = np.array(np.zeros([pad_img.shape[0],1]))\n",
    "pad_img = np.append(pad_left, pad_img, axis=1)\n",
    "pad_img = np.append(pad_img, pad_left, axis=1)"
   ]
  },
  {
   "cell_type": "code",
   "execution_count": 30,
   "id": "af51da5d",
   "metadata": {},
   "outputs": [
    {
     "data": {
      "text/plain": [
       "array([[  0,   0,   0, ...,   0,   0,   0],\n",
       "       [  0, 254, 255, ..., 252, 255,   0],\n",
       "       [  0, 255, 255, ..., 253, 254,   0],\n",
       "       ...,\n",
       "       [  0, 228, 204, ..., 246, 255,   0],\n",
       "       [  0, 234, 228, ..., 255, 254,   0],\n",
       "       [  0,   0,   0, ...,   0,   0,   0]], dtype=uint8)"
      ]
     },
     "execution_count": 30,
     "metadata": {},
     "output_type": "execute_result"
    }
   ],
   "source": [
    "pad_img.shape\n",
    "pad_img"
   ]
  },
  {
   "cell_type": "code",
   "execution_count": 31,
   "id": "52b57b7c",
   "metadata": {},
   "outputs": [
    {
     "data": {
      "text/plain": [
       "<function ndarray.view>"
      ]
     },
     "execution_count": 31,
     "metadata": {},
     "output_type": "execute_result"
    }
   ],
   "source": [
    "for i in range(1, pad_img.shape[0]):\n",
    "    for j in range(1, pad_img.shape[1]):\n",
    "        med_filter = pad_img[i-1:i+2, j-1:j+2]\n",
    "        print(med_filter.min())"
   ]
  },
  {
   "cell_type": "code",
   "execution_count": null,
   "id": "60f6a518",
   "metadata": {},
   "outputs": [],
   "source": []
  },
  {
   "cell_type": "code",
   "execution_count": null,
   "id": "a44849d9",
   "metadata": {},
   "outputs": [],
   "source": []
  },
  {
   "cell_type": "code",
   "execution_count": 6,
   "id": "6b93124f",
   "metadata": {},
   "outputs": [],
   "source": [
    "img1 = cv2.imread('task2.png')"
   ]
  },
  {
   "cell_type": "code",
   "execution_count": 7,
   "id": "3cb903a7",
   "metadata": {},
   "outputs": [
    {
     "data": {
      "text/plain": [
       "array([[[254, 254, 254],\n",
       "        [255, 255, 255],\n",
       "        [255, 255, 255],\n",
       "        ...,\n",
       "        [251, 251, 251],\n",
       "        [252, 252, 252],\n",
       "        [255, 255, 255]],\n",
       "\n",
       "       [[255, 255, 255],\n",
       "        [255, 255, 255],\n",
       "        [236, 236, 236],\n",
       "        ...,\n",
       "        [247, 247, 247],\n",
       "        [253, 253, 253],\n",
       "        [254, 254, 254]],\n",
       "\n",
       "       [[255, 255, 255],\n",
       "        [246, 246, 246],\n",
       "        [205, 205, 205],\n",
       "        ...,\n",
       "        [213, 213, 213],\n",
       "        [230, 230, 230],\n",
       "        [247, 247, 247]],\n",
       "\n",
       "       ...,\n",
       "\n",
       "       [[215, 215, 215],\n",
       "        [187, 187, 187],\n",
       "        [184, 184, 184],\n",
       "        ...,\n",
       "        [199, 199, 199],\n",
       "        [235, 235, 235],\n",
       "        [254, 254, 254]],\n",
       "\n",
       "       [[228, 228, 228],\n",
       "        [204, 204, 204],\n",
       "        [179, 179, 179],\n",
       "        ...,\n",
       "        [212, 212, 212],\n",
       "        [246, 246, 246],\n",
       "        [255, 255, 255]],\n",
       "\n",
       "       [[234, 234, 234],\n",
       "        [228, 228, 228],\n",
       "        [209, 209, 209],\n",
       "        ...,\n",
       "        [236, 236, 236],\n",
       "        [255, 255, 255],\n",
       "        [254, 254, 254]]], dtype=uint8)"
      ]
     },
     "execution_count": 7,
     "metadata": {},
     "output_type": "execute_result"
    }
   ],
   "source": [
    "img1"
   ]
  },
  {
   "cell_type": "code",
   "execution_count": 10,
   "id": "950cd79a",
   "metadata": {},
   "outputs": [
    {
     "data": {
      "text/plain": [
       "True"
      ]
     },
     "execution_count": 10,
     "metadata": {},
     "output_type": "execute_result"
    }
   ],
   "source": [
    "cv2.imwrite('abc.jpg',img1[:,:,2])"
   ]
  },
  {
   "cell_type": "code",
   "execution_count": 11,
   "id": "67c43fc7",
   "metadata": {},
   "outputs": [
    {
     "data": {
      "text/plain": [
       "array([[254, 254, 254],\n",
       "       [255, 255, 255],\n",
       "       [255, 255, 255],\n",
       "       ...,\n",
       "       [251, 251, 251],\n",
       "       [252, 252, 252],\n",
       "       [255, 255, 255]], dtype=uint8)"
      ]
     },
     "execution_count": 11,
     "metadata": {},
     "output_type": "execute_result"
    }
   ],
   "source": [
    "img1[0]"
   ]
  },
  {
   "cell_type": "code",
   "execution_count": null,
   "id": "acae145d",
   "metadata": {},
   "outputs": [],
   "source": []
  }
 ],
 "metadata": {
  "kernelspec": {
   "display_name": "cvip_base",
   "language": "python",
   "name": "cvip_base"
  },
  "language_info": {
   "codemirror_mode": {
    "name": "ipython",
    "version": 3
   },
   "file_extension": ".py",
   "mimetype": "text/x-python",
   "name": "python",
   "nbconvert_exporter": "python",
   "pygments_lexer": "ipython3",
   "version": "3.7.12"
  }
 },
 "nbformat": 4,
 "nbformat_minor": 5
}
