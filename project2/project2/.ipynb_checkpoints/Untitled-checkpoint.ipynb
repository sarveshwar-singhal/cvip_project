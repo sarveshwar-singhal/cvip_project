{
 "cells": [
  {
   "cell_type": "code",
   "execution_count": 2,
   "id": "945596c3",
   "metadata": {},
   "outputs": [],
   "source": [
    "import numpy as np\n",
    "import cv2"
   ]
  },
  {
   "cell_type": "code",
   "execution_count": 3,
   "id": "5fc8fb66",
   "metadata": {},
   "outputs": [],
   "source": [
    "from cv2 import imshow, imread, imshow, IMREAD_GRAYSCALE"
   ]
  },
  {
   "cell_type": "code",
   "execution_count": 4,
   "id": "686762e7",
   "metadata": {},
   "outputs": [],
   "source": [
    "from cv2 import imread, imwrite, imshow, IMREAD_GRAYSCALE, namedWindow, waitKey, destroyAllWindows"
   ]
  },
  {
   "cell_type": "code",
   "execution_count": 5,
   "id": "c2b9e64a",
   "metadata": {},
   "outputs": [],
   "source": [
    "from cv2 import IMREAD_GRAYSCALE"
   ]
  },
  {
   "cell_type": "code",
   "execution_count": 6,
   "id": "5c84be35",
   "metadata": {},
   "outputs": [],
   "source": [
    "import sys"
   ]
  },
  {
   "cell_type": "code",
   "execution_count": 8,
   "id": "f61a8f59",
   "metadata": {},
   "outputs": [
    {
     "data": {
      "text/plain": [
       "'3.7.12 (default, Sep 10 2021, 00:20:04) \\n[GCC 9.3.0]'"
      ]
     },
     "execution_count": 8,
     "metadata": {},
     "output_type": "execute_result"
    }
   ],
   "source": [
    "sys.version"
   ]
  },
  {
   "cell_type": "code",
   "execution_count": 9,
   "id": "e50c7c2a",
   "metadata": {},
   "outputs": [],
   "source": [
    "img = cv2.imread('task2.png', IMREAD_GRAYSCALE)"
   ]
  },
  {
   "cell_type": "code",
   "execution_count": null,
   "id": "8e4d4b91",
   "metadata": {},
   "outputs": [],
   "source": []
  },
  {
   "cell_type": "code",
   "execution_count": 7,
   "id": "76828d0b",
   "metadata": {},
   "outputs": [
    {
     "data": {
      "text/plain": [
       "array([[254, 255, 255, ..., 251, 252, 255],\n",
       "       [255, 255, 236, ..., 247, 253, 254],\n",
       "       [255, 246, 205, ..., 213, 230, 247],\n",
       "       ...,\n",
       "       [215, 187, 184, ..., 199, 235, 254],\n",
       "       [228, 204, 179, ..., 212, 246, 255],\n",
       "       [234, 228, 209, ..., 236, 255, 254]], dtype=uint8)"
      ]
     },
     "execution_count": 7,
     "metadata": {},
     "output_type": "execute_result"
    }
   ],
   "source": [
    "img"
   ]
  },
  {
   "cell_type": "code",
   "execution_count": 56,
   "id": "73e9eb65",
   "metadata": {},
   "outputs": [
    {
     "data": {
      "text/plain": [
       "(442, 700)"
      ]
     },
     "execution_count": 56,
     "metadata": {},
     "output_type": "execute_result"
    }
   ],
   "source": [
    "img.shape"
   ]
  },
  {
   "cell_type": "code",
   "execution_count": 59,
   "id": "54361b15",
   "metadata": {},
   "outputs": [],
   "source": [
    "filter_img = np.empty([0,img.shape[1]], dtype='uint8')\n",
    "pad_top = np.array(np.zeros([1, img.shape[1]], dtype='uint8'))\n",
    "# pad_top = np.array(np.zeros([1, img.shape[1]]))\n",
    "pad_img = np.append(pad_top, img, axis=0)\n",
    "pad_img = np.append(pad_img, pad_top, axis=0)\n",
    "pad_left = np.array(np.zeros([pad_img.shape[0],1], dtype='uint8'))\n",
    "# pad_left = np.array(np.zeros([pad_img.shape[0],1]))\n",
    "pad_img = np.append(pad_left, pad_img, axis=1)\n",
    "pad_img = np.append(pad_img, pad_left, axis=1)"
   ]
  },
  {
   "cell_type": "code",
   "execution_count": 64,
   "id": "5212e2a8",
   "metadata": {},
   "outputs": [
    {
     "data": {
      "text/plain": [
       "(444, 702)"
      ]
     },
     "execution_count": 64,
     "metadata": {},
     "output_type": "execute_result"
    }
   ],
   "source": [
    "pad_img.shape\n",
    "# pad_img"
   ]
  },
  {
   "cell_type": "code",
   "execution_count": 68,
   "id": "5b65599d",
   "metadata": {},
   "outputs": [],
   "source": [
    "for i in range(1, pad_img.shape[0]-1):\n",
    "    row = []\n",
    "    for j in range(1, pad_img.shape[1]-1):\n",
    "        med_filter = pad_img[i-1:i+2, j-1:j+2]\n",
    "        row.append(np.median(med_filter))\n",
    "    row = np.array(row, dtype='uint8')\n",
    "    row = row.reshape(1,row.shape[0])\n",
    "    filter_img = np.append(filter_img, row, axis=0)"
   ]
  },
  {
   "cell_type": "code",
   "execution_count": 74,
   "id": "17ecf524",
   "metadata": {},
   "outputs": [],
   "source": [
    "# for i in range(1, pad_img.shape[0]):\n",
    "#     print(i)\n",
    "new = pad_img[0:3, 0:3]"
   ]
  },
  {
   "cell_type": "code",
   "execution_count": 75,
   "id": "c07dd4e1",
   "metadata": {},
   "outputs": [
    {
     "data": {
      "text/plain": [
       "array([[  0,   0,   0],\n",
       "       [  0, 254, 255],\n",
       "       [  0, 255, 255]], dtype=uint8)"
      ]
     },
     "execution_count": 75,
     "metadata": {},
     "output_type": "execute_result"
    }
   ],
   "source": [
    "new"
   ]
  },
  {
   "cell_type": "code",
   "execution_count": 77,
   "id": "0da0e67c",
   "metadata": {},
   "outputs": [
    {
     "data": {
      "text/plain": [
       "array([[255, 255,   0],\n",
       "       [255, 254,   0],\n",
       "       [  0,   0,   0]], dtype=uint8)"
      ]
     },
     "execution_count": 77,
     "metadata": {},
     "output_type": "execute_result"
    }
   ],
   "source": [
    "np.flip(new)"
   ]
  },
  {
   "cell_type": "code",
   "execution_count": 84,
   "id": "992f373e",
   "metadata": {},
   "outputs": [],
   "source": [
    "new_img = np.pad(img, (1,1), 'constant', constant_values=(0,0))"
   ]
  },
  {
   "cell_type": "code",
   "execution_count": 105,
   "id": "766ccf95",
   "metadata": {},
   "outputs": [
    {
     "data": {
      "text/plain": [
       "array([[  0,   0,   0, ...,   0,   0,   0],\n",
       "       [  0, 254, 255, ..., 252, 255,   0],\n",
       "       [  0, 255, 255, ..., 253, 254,   0],\n",
       "       ...,\n",
       "       [  0, 228, 204, ..., 246, 255,   0],\n",
       "       [  0, 234, 228, ..., 255, 254,   0],\n",
       "       [  0,   0,   0, ...,   0,   0,   0]], dtype=uint8)"
      ]
     },
     "execution_count": 105,
     "metadata": {},
     "output_type": "execute_result"
    }
   ],
   "source": [
    "new_img"
   ]
  },
  {
   "cell_type": "code",
   "execution_count": 85,
   "id": "8cad74d7",
   "metadata": {},
   "outputs": [
    {
     "data": {
      "text/plain": [
       "(444, 702)"
      ]
     },
     "execution_count": 85,
     "metadata": {},
     "output_type": "execute_result"
    }
   ],
   "source": [
    "new_img.shape"
   ]
  },
  {
   "cell_type": "code",
   "execution_count": null,
   "id": "268c6438",
   "metadata": {},
   "outputs": [],
   "source": []
  },
  {
   "cell_type": "code",
   "execution_count": 51,
   "id": "80e5ec09",
   "metadata": {},
   "outputs": [
    {
     "data": {
      "text/plain": [
       "array([], shape=(0, 4), dtype=float64)"
      ]
     },
     "execution_count": 51,
     "metadata": {},
     "output_type": "execute_result"
    }
   ],
   "source": [
    "np.empty([0,4])"
   ]
  },
  {
   "cell_type": "code",
   "execution_count": null,
   "id": "03cbc9fc",
   "metadata": {},
   "outputs": [],
   "source": []
  },
  {
   "cell_type": "code",
   "execution_count": 104,
   "id": "54f7a5f0",
   "metadata": {},
   "outputs": [],
   "source": [
    "normal = cv2.imread('results/task2_denoise1.jpg', IMREAD_GRAYSCALE)\n",
    "short = cv2.imread('results/task2_denoise.jpg', IMREAD_GRAYSCALE)\n",
    "arr = np.array([1,2,3,4,5,6])\n",
    "brr = arr.copy()\n",
    "x = brr == arr\n",
    "x = normal == short\n",
    "# print(type(x[1]))\n",
    "for val in x:\n",
    "#     print(val)\n",
    "#     print(val.all())\n",
    "    if bool(val.all()) is not True:\n",
    "        print(1)\n",
    "# arr = arr.reshape(1,arr.shape[0])\n",
    "# arr.shape\n",
    "# np.append(arr,brr, axis=)\n",
    "# arr = np.array([1.0,2.0,3.0,4.0], 'uint8')\n",
    "# arr.dtype"
   ]
  },
  {
   "cell_type": "code",
   "execution_count": 9,
   "id": "be96b5f4",
   "metadata": {},
   "outputs": [
    {
     "name": "stdout",
     "output_type": "stream",
     "text": [
      "False\n"
     ]
    }
   ],
   "source": [
    "arr = np.array([1,2,3,4,5,6])\n",
    "brr = arr.copy()\n",
    "brr[1] = 1\n",
    "x = brr == arr\n",
    "print(x.all())"
   ]
  },
  {
   "cell_type": "code",
   "execution_count": 15,
   "id": "dc41bc56",
   "metadata": {},
   "outputs": [
    {
     "data": {
      "text/plain": [
       "False"
      ]
     },
     "execution_count": 15,
     "metadata": {},
     "output_type": "execute_result"
    }
   ],
   "source": [
    "# a = a.reshape((9))\n",
    "a.shape == b.shape"
   ]
  },
  {
   "cell_type": "code",
   "execution_count": 11,
   "id": "b14a5886",
   "metadata": {},
   "outputs": [],
   "source": [
    "a = np.arange(9).reshape(3,3)\n",
    "b = a.copy()"
   ]
  },
  {
   "cell_type": "code",
   "execution_count": 125,
   "id": "618e1b5a",
   "metadata": {},
   "outputs": [
    {
     "data": {
      "text/plain": [
       "(array([[0, 1, 2],\n",
       "        [3, 4, 5],\n",
       "        [6, 7, 8]]),\n",
       " array([[0, 1, 2],\n",
       "        [3, 4, 5],\n",
       "        [6, 7, 8]]))"
      ]
     },
     "execution_count": 125,
     "metadata": {},
     "output_type": "execute_result"
    }
   ],
   "source": [
    "a,b"
   ]
  },
  {
   "cell_type": "code",
   "execution_count": 129,
   "id": "17c0f32c",
   "metadata": {},
   "outputs": [
    {
     "data": {
      "text/plain": [
       "50"
      ]
     },
     "execution_count": 129,
     "metadata": {},
     "output_type": "execute_result"
    }
   ],
   "source": [
    "sum(a[1]*b[1])"
   ]
  },
  {
   "cell_type": "code",
   "execution_count": 130,
   "id": "3135bcdc",
   "metadata": {},
   "outputs": [
    {
     "data": {
      "text/plain": [
       "50"
      ]
     },
     "execution_count": 130,
     "metadata": {},
     "output_type": "execute_result"
    }
   ],
   "source": [
    "np.inner(a[1],b[1])"
   ]
  },
  {
   "cell_type": "code",
   "execution_count": null,
   "id": "52e2deaa",
   "metadata": {},
   "outputs": [],
   "source": []
  },
  {
   "cell_type": "code",
   "execution_count": 123,
   "id": "860c33f7",
   "metadata": {},
   "outputs": [
    {
     "data": {
      "text/plain": [
       "4"
      ]
     },
     "execution_count": 123,
     "metadata": {},
     "output_type": "execute_result"
    }
   ],
   "source": [
    "a[1,1]"
   ]
  },
  {
   "cell_type": "code",
   "execution_count": null,
   "id": "f369969e",
   "metadata": {},
   "outputs": [],
   "source": []
  },
  {
   "cell_type": "code",
   "execution_count": null,
   "id": "a0900f0f",
   "metadata": {},
   "outputs": [],
   "source": [
    "np.all()"
   ]
  },
  {
   "cell_type": "code",
   "execution_count": 70,
   "id": "b41cb5d4",
   "metadata": {},
   "outputs": [
    {
     "data": {
      "text/plain": [
       "True"
      ]
     },
     "execution_count": 70,
     "metadata": {},
     "output_type": "execute_result"
    }
   ],
   "source": [
    "cv2.imwrite('abc.jpg',filter_img)"
   ]
  },
  {
   "cell_type": "code",
   "execution_count": 6,
   "id": "6b93124f",
   "metadata": {},
   "outputs": [],
   "source": [
    "img1 = cv2.imread('task2.png')"
   ]
  },
  {
   "cell_type": "code",
   "execution_count": 7,
   "id": "3cb903a7",
   "metadata": {},
   "outputs": [
    {
     "data": {
      "text/plain": [
       "array([[[254, 254, 254],\n",
       "        [255, 255, 255],\n",
       "        [255, 255, 255],\n",
       "        ...,\n",
       "        [251, 251, 251],\n",
       "        [252, 252, 252],\n",
       "        [255, 255, 255]],\n",
       "\n",
       "       [[255, 255, 255],\n",
       "        [255, 255, 255],\n",
       "        [236, 236, 236],\n",
       "        ...,\n",
       "        [247, 247, 247],\n",
       "        [253, 253, 253],\n",
       "        [254, 254, 254]],\n",
       "\n",
       "       [[255, 255, 255],\n",
       "        [246, 246, 246],\n",
       "        [205, 205, 205],\n",
       "        ...,\n",
       "        [213, 213, 213],\n",
       "        [230, 230, 230],\n",
       "        [247, 247, 247]],\n",
       "\n",
       "       ...,\n",
       "\n",
       "       [[215, 215, 215],\n",
       "        [187, 187, 187],\n",
       "        [184, 184, 184],\n",
       "        ...,\n",
       "        [199, 199, 199],\n",
       "        [235, 235, 235],\n",
       "        [254, 254, 254]],\n",
       "\n",
       "       [[228, 228, 228],\n",
       "        [204, 204, 204],\n",
       "        [179, 179, 179],\n",
       "        ...,\n",
       "        [212, 212, 212],\n",
       "        [246, 246, 246],\n",
       "        [255, 255, 255]],\n",
       "\n",
       "       [[234, 234, 234],\n",
       "        [228, 228, 228],\n",
       "        [209, 209, 209],\n",
       "        ...,\n",
       "        [236, 236, 236],\n",
       "        [255, 255, 255],\n",
       "        [254, 254, 254]]], dtype=uint8)"
      ]
     },
     "execution_count": 7,
     "metadata": {},
     "output_type": "execute_result"
    }
   ],
   "source": [
    "img1"
   ]
  },
  {
   "cell_type": "code",
   "execution_count": 10,
   "id": "950cd79a",
   "metadata": {},
   "outputs": [
    {
     "data": {
      "text/plain": [
       "True"
      ]
     },
     "execution_count": 10,
     "metadata": {},
     "output_type": "execute_result"
    }
   ],
   "source": [
    "cv2.imwrite('abc.jpg',img1[:,:,2])"
   ]
  },
  {
   "cell_type": "code",
   "execution_count": 8,
   "id": "6ae7e329",
   "metadata": {},
   "outputs": [
    {
     "data": {
      "text/plain": [
       "5.0"
      ]
     },
     "execution_count": 8,
     "metadata": {},
     "output_type": "execute_result"
    }
   ],
   "source": [
    "np.sqrt(3**2 + 4**2)"
   ]
  },
  {
   "cell_type": "code",
   "execution_count": 11,
   "id": "67c43fc7",
   "metadata": {},
   "outputs": [
    {
     "data": {
      "text/plain": [
       "array([[254, 254, 254],\n",
       "       [255, 255, 255],\n",
       "       [255, 255, 255],\n",
       "       ...,\n",
       "       [251, 251, 251],\n",
       "       [252, 252, 252],\n",
       "       [255, 255, 255]], dtype=uint8)"
      ]
     },
     "execution_count": 11,
     "metadata": {},
     "output_type": "execute_result"
    }
   ],
   "source": [
    "img1[0]"
   ]
  },
  {
   "cell_type": "code",
   "execution_count": 35,
   "id": "acae145d",
   "metadata": {},
   "outputs": [],
   "source": [
    "img3 = cv2.imread('task3.png', IMREAD_GRAYSCALE)"
   ]
  },
  {
   "cell_type": "code",
   "execution_count": 36,
   "id": "94cd8abb",
   "metadata": {},
   "outputs": [
    {
     "data": {
      "text/plain": [
       "array([[0, 0, 0, ..., 0, 0, 0],\n",
       "       [0, 0, 0, ..., 0, 0, 0],\n",
       "       [0, 0, 0, ..., 0, 0, 0],\n",
       "       ...,\n",
       "       [0, 0, 0, ..., 0, 0, 0],\n",
       "       [0, 0, 0, ..., 0, 0, 0],\n",
       "       [0, 0, 0, ..., 0, 0, 0]], dtype=uint8)"
      ]
     },
     "execution_count": 36,
     "metadata": {},
     "output_type": "execute_result"
    }
   ],
   "source": [
    "img3"
   ]
  },
  {
   "cell_type": "code",
   "execution_count": 37,
   "id": "e7c225ed",
   "metadata": {},
   "outputs": [],
   "source": [
    "import pandas as pd"
   ]
  },
  {
   "cell_type": "code",
   "execution_count": 38,
   "id": "3a7b8a46",
   "metadata": {},
   "outputs": [],
   "source": [
    "df = pd.DataFrame(img3)"
   ]
  },
  {
   "cell_type": "code",
   "execution_count": 15,
   "id": "5ed5764d",
   "metadata": {},
   "outputs": [
    {
     "data": {
      "text/plain": [
       "0    1  2  3  4  5  6  7  8  9  10  11  12  13  14  15  16  17  18  19  20  21  22  23  24  25  26  27  28  29  30  31  32  33  34  35  36  37  38  39  40  41  42  43  44  45  46  47  48  49  50  51  52  53  54  55  56  57   58   59   60   61   62   63   64   65   66   67   68   69   70   71   72   73   74   75   76   77   78   79   80   81   82   83   84   85   86   87   88   89   90   91   92   93   94   95   96   97   98   99   100  101  102  103  104  105  106  107  108  109  110  111  112  113  114  115  116  117  118  119  120  121  122  123  124  125  126  127  128  129  130  131  132  133  134  135  136  137  138  139  140  141  142  143  144  145  146  147  148  149  150  151  152  153  154  155  156  157  158  159  160  161  162  163  164  165  166  167  168  169  170  171  172  173  174  175  176  177  178  179  180  181  182  183  184  185  186  187  188  189  190  191  192  193  194  195  196  197  198  199  200  201  202  203  204  205  206  207  208  209  210  211  212  213  214  215  216  217  218  219  220  221  222  223  224  225  226  227  228  229  230  231  232  233  234  235  236  237  238  239  240  241  242  243  244  245  246  247  248  249  250  251  252  253  254  255  256  257  258  259  260  261  262  263  264  265  266  267  268  269  270  271  272  273  274  275  276  277  278  279  280  281  282  283  284  285  286  287  288  289  290  291  292  293  294  295  296  297  298  299  300  301  302  303  304  305  306  307  308  309  310  311  312  313  314  315  316  317  318  319  320  321  322  323  324  325  326  327  328  329  330  331  332  333  334  335  336  337  338  339  340  341  342  343  344  345  346  347  348  349  350  351  352  353  354  355  356  357  358  359  360  361  362  363  364  365  366  367  368  369  370  371  372  373  374  375  376  377  378  379  380  381  382  383  384  385  386  387  388  389  390  391  392  393  394  395  396  397  398  399  400  401  402  403  404  405  406  407  408  409  410  411  412  413  414  415  416  417  418  419  420  421  422  423  424  425  426  427  428  429  430  431  432  433  434  435  436  437  438  439  440  441  442  443  444  445  446  447  448  449  450  451  452  453  454  455  456  457  458  459  460  461  462  463  464  465  466  467  468  469  470  471  472  473  474  475  476  477  478  479  480  481  482  483  484  485  486  487  488  489  490  491  492  493  494  495  496  497  498  499\n",
       "0    0  0  0  0  0  0  0  0  0  0   0   0   0   0   0   0   0   0   0   0   0   0   0   0   0   0   0   0   0   0   0   0   0   0   0   0   0   0   0   0   0   0   0   0   0   0   0   0   0   0   0   0   0   0   0   0   0    0    0    0    0    0    0    0    0    0    0    0    0    0    0    0    0    0    0    0    0    0    0    0    0    0    0    0    0    0    0    0    0    0    0    0    0    0    0    0    0    0    0    0    0    0    0    0    0    0    0    0    0    0    0    0    0    0    0    0    0    0    0    0    0    0    0    0    0    0    0    0    0    0    0    0    0    0    0    0    0    0    0    0    0    0    0    0    0    0    0    0    0    0    0    0    0    0    0    0    0    0    0    0    0    0    0    0    0    0    0    0    0    0    0    0    0    0    0    0    0    0    0    0    0    0    0    0    0    0    0    0    0    0    0    0    0    0    0    0    0    0    0    0    0    0    0    0    0    0    0    0    0    0    0    0    0    0    0    0    0    0    0    0    0    0    0    0    0    0    0    0    0    0    0    0    0    0    0    0    0    0    0    0    0    0    0    0    0    0    0    0    0    0    0    0    0    0    0    0    0    0    0    0    0    0    0    0    0    0    0    0    0    0    0    0    0    0    0    0    0    0    0    0    0    0    0    0    0    0    0    0    0    0    0    0    0    0    0    0    0    0    0    0    0    0    0    0    0    0    0    0    0    0    0    0    0    0    0    0    0    0    0    0    0    0    0    0    0    0    0    0    0    0    0    0    0    0    0    0    0    0    0    0    0    0    0    0    0    0    0    0    0    0    0    0    0    0    0    0    0    0    0    0    0    0    0    0    0    0    0    0    0    0    0    0    0    0    0    0    0    0    0    0    0    0    0    0    0    0    0    0    0    0    0    0    0    0    0    0    0    0    0    0    0    0    0    0    0    0    0    0    0    0    0    0    0    0    0    0    0    0    0    0    0    0    0    0    0    0    0    0    0    0    0    0    0    0    0    0    0    0    0    0    0    0    0    0    0    0    0    0    0    0    0    0    0    0    0    0    0    0    0    0    0    0    0    0    0    0    0    0    0    0    0    0    0    0    0    0    0    0    0    0    0    0    0    0    0    0    0    0    0    0    0    0    0    0    0    0    0    0    0      34\n",
       "                                                                                                                                                                                                                                                                                                                                                                                                                                                                                                                                                                                                                                                                                                                       255  255  255  255  255  255  255  255  255  255  255  255  255  255  255  255  255  255  255  255  255  255  255  255  255  255  255  255  255  255  255  255  255  255  255  255  255  255  255  255  255  255  255  255  255  255  255  255  255  255  255  255  255  255  255  255  255  255  255  255  255  255  255  255  255  255  255  255  255  255  255  255  255  255  255  255  255  255  255  255  255  255  255  255  255  255  255  255  255  255  255  255  255  255  255  255  255  255  255  255  255  255  255  255  255  255  255  255  255  255  255  255  255  255  255  255  255  255  255  255  255  255  255  255  255  255  255  255  255  255  255  255  255  255  255  255  255  255  255  255  255  255  255  255  255  255  255  255  255  255  255  255  255  255  255  255  255  0    0    0    0    0    0    0    0    0    0    0    0    0    0    0    0    0    0    0    0    0    0    0    0    0    0    0    0    0    0    0    0    0    0    0    0    0    0    0    0    0    0    0    0    0    0    0    0    0    0    0    0    0    0    0    0    0    0    0    0    0    0    0    0    0    0    0    0    0    0    0    0    0    0    0    0    0    0    0    0    0    0    0    0    0    0    0    0    0    0    0    0    0    0    0    0    0    0    0    0    0    0    0    0    0    0    0    0    0    0    0    0    0    0    0    0    0    0    0    0    0    0    0    0    0    0    0    0    0    0    0    0    0    0    0    0    0    0    0    0    0    0    0    0    0    0    0    0    0    0    0    0    0    0    0    0    0    0    0    0    0    0    0    0    0    0    0    0    0    0    0    0    0    0    0    0    0    0    0    0    0    0    0    0    0    0    0    0    0    0    0      23\n",
       "                                                                                                                                                                                                                                                                                                                                                                                                                                                                                                                                                                                                                                                           255  255  255  255  255  255  255  255  255  255  255  255  255  255  255  255  255  255  255  255  255  255  255  255  255  255  255  255  255  255  255  255  255  255  255  255  255  255  255  255  255  255  255  255  255  255  255  255  255  255  255  255  255  255  255  255  255  255  255  255  255  255  255  255  255  255  255  255  255  255  255  255  255  255  255  255  255  255  255  255  255  255  255  255  255  255  255  255  255  255  255  255  255  255  255  255  255  255  255  255  255  255  255  255  255  255  255  255  255  255  255  255  255  255  255  255  255  255  255  255  255  255  255  255  255  255  255  255  255  255  255  255  255  255  255  255  255  255  255  255  255  255  255  255  255  255  255  255  255  255  255  255  255  255  255  255  255  255  255  255  255  255  255  255  255  255  255  255  255  255  255  255  255  255  255  255  255  255  255  255  0    0    0    0    0    0    0    0    0    0    0    0    0    0    0    0    0    0    0    0    0    0    0    0    0    0    0    0    0    0    0    0    0    0    0    0    0    0    0    0    0    0    0    0    0    0    0    0    0    0    0    0    0    0    0    0    0    0    0    0    0    0    0    0    0    0    0    0    0    0    0    0    0    0    0    0    0    0    0    0    0    0    0    0    0    0    0    0    0    0    0    0    0    0    0    0    0    0    0    0    0    0    0    0    0    0    0    0    0    0    0    0    0    0    0    0    0    0    0    0    0    0    0    0    0    0    0    0    0    0    0    0    0    0    0    0    0    0    0    0    0    0    0    0    0    0    0    0    0    0    0    0    0    0    0    0    0    0    0    0    0    0    0    0    0    0    0    0    0    0    0    0    0    0    0    0    0    0    0    0       3\n",
       "                                                                                                                                                                                                                                                                                                                                                                                                                                                                                                                                                                                                                                                           0    255  255  255  255  255  255  255  255  255  255  255  255  255  255  255  255  255  255  255  255  255  255  255  255  255  255  255  255  255  255  255  255  255  255  255  255  255  255  255  255  255  255  255  255  255  255  255  255  255  255  255  255  255  255  255  255  255  255  255  255  255  255  255  255  255  255  255  255  255  255  255  255  255  255  255  255  255  255  255  255  255  255  255  255  255  255  255  255  255  255  255  255  255  255  255  255  255  255  255  255  255  255  255  255  255  255  255  255  255  255  255  255  255  255  255  255  255  255  255  255  255  255  255  255  255  255  255  255  255  255  255  255  255  255  255  255  255  255  255  255  255  255  255  255  255  255  255  255  255  255  255  255  255  255  255  255  255  255  255  255  255  255  255  255  255  255  255  255  255  255  255  255  255  255  255  255  255  255  255  0    0    0    0    0    0    0    0    0    0    0    0    0    0    0    0    0    0    0    0    0    0    0    0    0    0    0    0    0    0    0    0    0    0    0    0    0    0    0    0    0    0    0    0    0    0    0    0    0    0    0    0    0    0    0    0    0    0    0    0    0    0    0    0    0    0    0    0    0    0    0    0    0    0    0    0    0    0    0    0    0    0    0    0    0    0    0    0    0    0    0    0    0    0    0    0    0    0    0    0    0    0    0    0    0    0    0    0    0    0    0    0    0    0    0    0    0    0    0    0    0    0    0    0    0    0    0    0    0    0    0    0    0    0    0    0    0    0    0    0    0    0    0    0    0    0    0    0    0    0    0    0    0    0    0    0    0    0    0    0    0    0    0    0    0    0    0    0    0    0    0    0    0    0    0    0    0    0    0    0       3\n",
       "                                                                                                                                                                                                                            255  255  255  255  255  255  255  255  255  255  255  255  255  255  255  255  255  255  255  255  255  255  255  255  255  255  255  255  255  255  255  255  255  255  255  255  255  255  255  255  255  255  255  255  255  255  255  255  255  255  255  255  255  255  255  255  255  255  255  255  255  255  255  255  255  255  255  255  255  255  255  255  255  255  255  255  255  255  255  255  255  255  255  255  255  255  255  255  255  255  255  255  255  255  255  255  255  255  255  255  255  255  255  255  255  255  255  255  255  255  255  255  255  255  255  255  255  255  255  255  255  255  255  255  255  255  255  255  255  255  255  255  255  255  255  255  255  255  255  255  255  255  255  255  255  255  255  255  255  255  255  255  255  255  255  255  255  255  255  255  255  255  255  255  255  0    0    0    0    0    0    0    0    0    0    0    0    0    0    0    0    0    0    0    0    0    0    0    0    0    0    0    0    0    0    0    0    0    0    0    0    0    0    0    0    0    0    0    0    0    0    0    0    0    0    0    0    0    0    0    0    0    0    0    0    0    0    0    0    0    0    0    0    0    0    0    0    0    0    0    0    0    0    0    0    0    0    0    0    0    0    0    0    0    0    0    0    0    0    0    0    0    0    0    0    0    0    0    0    0    0    0    0    0    0    0    0    0    0    0    0    0    0    0    0    0    0    0    0    0    0    0    0    0    0    0    0    0    0    0    0    0    0    0    0    0    0    0    0    0    0    0    0    0    0    0    0    0    0    0    0    0    0    0    0    0    0    0    0    0    0    0    0    0    0    0    0    0    0    0    0    0    0    0    0    0    0    0    0    0    0    0    0    0    0    0    0    0    0    0    0    0    0    0    0    0    0    0    0    0    0    0    0    0    0    0    0    0    0    0    0    0    0    0    0    0    0    0    0    0    0    0    0    0    0    0    0    0    0    0    0    0    0    0    0    0    0    0    0    0    0    0    0    0    0    0    0    0    0    0    0    0    0    0    0    0    0    0    0    0    0    0    0    0    0    0    0    0    0    0    0    0    0       2\n",
       "                                                                                                                                                                                                                                                                                                                                                                                                                                                                                                                                                                                                                                                                                                                                                                                                                                                                                                                                                                                                                                                                                                                                                                                                                                                                                                                                                                                                                                                                                                                                                                                                                                                                                                                                                                                                                                                                                                                                                                                                                                                                                                                                                                                                                                                                                                                                                                                                                                                                                                                                     ..\n",
       "                                                                                                                                                                                                                            0    0    0    0    0    0    0    0    0    0    0    0    0    0    0    0    0    0    0    0    0    0    0    0    0    0    0    0    0    0    0    0    0    0    0    0    0    0    0    0    0    0    0    0    0    0    0    0    0    0    0    0    0    0    0    0    0    0    0    0    0    0    0    0    0    0    0    0    0    0    0    0    0    0    0    0    0    0    0    0    0    0    0    0    255  0    0    0    0    0    0    0    0    0    0    0    0    0    0    0    0    0    0    0    0    0    0    0    0    0    0    0    0    0    0    0    0    0    0    0    0    0    0    0    0    0    0    0    0    0    0    0    0    0    0    0    0    0    0    0    0    0    0    0    0    0    0    0    0    0    0    0    0    0    0    0    0    0    0    0    0    0    0    0    0    0    0    0    0    0    0    0    0    0    0    0    0    0    0    0    0    0    0    0    0    0    0    0    0    0    0    0    0    0    0    0    0    0    0    0    0    0    0    0    0    0    0    0    0    0    0    0    0    0    0    0    0    0    0    0    0    0    0    0    0    0    0    0    0    0    0    0    0    0    0    0    0    0    0    0    0    0    0    0    0    0    0    0    0    0    0    0    255  0    0    0    0    0    0    0    0    0    0    0    0    0    0    0    0    0    0    0    0    0    0    0    0    0    0    0    0    0    0    0    0    0    0    0    0    0    0    0    0    0    0    0    0    0    0    0    0    255  0    0    0    0    0    0    0    0    0    0    0    0    0    0    0    0    0    0    0    0    0    0    0    0    0    0    0    0    0    0    0    0    0    0    0    0    0    0    0    0    0    0    0    0    0    0    0    0    0    0    0    0    0    0    0    0    0    0    0    0    0    0    0    0    0    0    0    0    0    0    0    0    0    0    0    0    0    0    0    0    0    0    0    0    0    0    0    0    0    0    0    0    0    0    0    0    0    0    0    0    0    0    0    0    0    0    0    0    0    0    0    0    0    0    0    0    0    0    0    0    0    0    0    0    0    0    0    0    0    0    0    0    0    0    0    0    0    0    0    0    0       1\n",
       "                                                                                                                                                                                                                                                                                                                                                                                                                                                                                                                                                                                                                                                                0    255  255  255  255  255  255  255  255  255  255  255  255  255  255  255  0    255  255  255  255  255  255  255  255  255  255  255  255  255  255  255  255  255  255  255  255  255  255  255  255  255  255  255  255  255  255  255  255  255  255  255  255  255  255  255  255  255  255  255  255  255  255  255  255  255  255  255  255  255  255  255  255  255  255  255  255  255  255  255  255  255  255  255  255  255  255  255  255  255  255  255  255  255  255  255  255  255  255  255  255  255  255  255  255  255  255  255  255  255  255  255  255  255  255  255  255  255  255  255  255  255  255  255  255  255  255  255  255  255  255  255  255  255  255  255  255  255  255  255  255  255  255  255  255  255  255  255  255  255  255  255  255  255  255  255  255  255  255  255  255  255  255  255  255  255  255  255  255  255  255  255  255  255  255  255  255  0    0    0    0    0    0    0    0    0    0    0    0    0    0    0    0    0    0    0    0    0    0    0    0    0    0    0    0    0    0    0    0    0    0    0    0    0    0    0    0    0    0    0    0    0    0    0    0    0    0    0    0    0    0    0    0    0    0    0    0    0    0    0    0    0    0    0    0    0    0    0    0    0    0    0    0    0    0    0    0    0    0    0    0    0    0    0    0    0    0    0    0    0    0    0    0    0    0    0    0    0    0    0    0    0    0    0    0    0    0    0    0    0    0    0    0    0    0    0    0    0    0    0    0    0    0    0    0    0    0    0    0    0    0    0    0    0    0    0    0    0    0    0    0    0    0    0    0    0    0    0    0    0    0    0    0    0    0    0    0    0    0    0    0    0    0    0    0    0    0    0    0    0    0    0    0    0    0    0    0    0    0       1\n",
       "                                                                                                                                                                                                                                                                                                                                                                                                                                                                                                                                                                                                                                                                          0    0    0    0    0    0    0    0    255  255  255  255  255  255  255  255  255  255  255  255  255  255  255  255  255  255  255  255  255  255  255  255  255  255  255  255  255  255  255  255  255  255  255  255  255  255  255  255  255  255  255  255  255  255  255  255  255  255  255  255  255  255  255  255  255  255  255  255  255  255  255  255  255  255  255  255  255  255  255  255  255  255  255  255  255  255  255  255  255  255  255  255  255  255  255  255  255  255  255  255  255  255  255  255  255  255  255  255  255  255  255  255  255  255  255  255  255  255  255  255  255  255  255  255  255  255  255  255  255  255  255  255  255  255  255  255  255  255  255  255  255  255  255  255  255  255  255  255  255  255  255  255  255  255  255  255  255  255  255  255  0    0    0    0    0    0    0    0    0    0    0    0    0    0    0    0    0    0    0    0    0    0    0    0    0    0    0    0    0    0    0    0    0    0    0    0    0    0    0    0    0    0    0    0    0    0    0    0    0    0    0    0    0    0    0    0    0    0    0    0    0    0    0    0    0    0    0    0    0    0    0    0    0    0    0    255  0    0    0    0    0    0    0    0    0    0    0    0    0    0    0    0    0    0    0    0    0    0    0    0    0    0    0    0    0    0    0    0    0    0    0    0    0    0    0    0    0    0    0    0    0    0    0    0    0    0    0    0    0    0    0    0    0    0    0    0    0    0    0    0    0    0    0    0    0    0    0    0    0    0    0    0    0    0    0    0    0    0    0    0    0    0    0    0    0    0    0    0    0    0    0    0    0    0    0    0    0    0    0    0    0    0    255  0    0    0    0    0    0    0    0    0    0    0    0    0    0       1\n",
       "                                                                                                                                                                                                                                                                                                                                                                                                                                                                                                                                                                                                                                                                     0    0    255  255  255  255  255  255  255  255  255  255  255  255  255  255  255  255  255  255  255  255  255  255  255  255  255  255  255  255  255  255  255  255  255  255  255  255  255  255  255  255  255  255  255  255  255  255  255  255  255  255  255  255  255  255  255  255  255  255  255  255  255  255  255  255  255  255  255  255  255  255  255  255  255  255  255  255  255  255  255  255  255  255  255  255  255  255  255  255  255  255  255  255  255  255  255  255  255  255  255  255  255  255  255  255  255  255  255  255  255  255  255  255  255  255  255  255  255  255  255  255  255  255  255  255  255  255  255  255  255  255  255  255  255  255  255  255  255  255  255  255  255  255  255  255  255  255  255  255  255  255  255  255  255  255  255  255  255  255  255  255  255  255  255  255  255  255  255  255  255  255  255  255  255  0    0    0    0    0    0    0    0    0    0    0    0    0    0    0    0    0    0    0    0    0    0    0    0    0    0    0    0    0    0    0    0    0    0    0    0    0    0    0    0    0    0    0    0    0    0    0    0    0    0    0    0    0    0    0    0    0    0    0    0    0    0    0    0    0    0    0    0    0    0    0    0    0    0    0    0    0    0    0    0    0    0    0    0    0    0    0    0    0    0    0    0    0    0    0    0    0    0    0    0    0    0    0    0    0    0    0    0    0    0    0    0    0    0    0    0    0    0    0    0    0    0    0    0    0    0    0    0    0    0    0    0    0    0    0    0    0    0    0    0    0    0    0    0    0    0    0    0    0    0    0    0    0    0    0    0    0    0    0    0    0    0    0    0    0    0    0    0    0    0    0    0    0    0    0    0    0    0    0    0    0    0    0       1\n",
       "255  0  0  0  0  0  0  0  0  0  0   0   0   0   0   0   0   0   0   0   0   0   0   0   0   0   0   0   0   0   0   0   0   0   0   0   0   0   0   0   0   0   0   0   0   0   0   0   0   0   0   0   0   0   0   0   0   0    0    0    0    0    0    0    0    0    0    0    0    0    0    0    0    0    0    0    0    0    0    0    0    0    0    0    0    0    0    0    0    0    0    0    0    0    0    0    0    0    0    0    0    0    0    0    0    0    0    0    0    0    0    0    0    0    0    0    0    0    0    0    0    0    0    0    0    0    0    0    0    0    0    0    0    0    0    0    0    0    0    0    0    0    0    0    0    0    0    0    0    0    0    0    255  255  255  255  255  255  255  255  255  255  255  255  255  255  255  255  255  255  255  255  255  255  255  255  255  255  255  255  255  255  255  255  255  255  255  255  255  255  255  255  255  255  255  255  255  255  255  255  255  255  255  255  255  255  255  255  255  255  255  255  255  255  255  255  255  255  255  255  255  255  255  255  255  255  255  255  255  255  255  255  255  255  255  255  255  255  255  255  255  255  255  255  255  255  255  255  255  255  255  255  255  255  255  255  255  255  255  255  255  255  255  255  255  255  255  255  255  255  255  255  255  255  255  255  255  255  255  255  255  255  255  255  255  255  255  255  255  255  255  255  255  255  255  255  255  255  255  255  255  255  255  255  255  255  255  255  255  0    0    0    0    0    0    0    0    0    0    0    0    0    0    0    0    0    0    0    0    0    0    0    0    0    0    0    0    0    0    0    0    0    0    0    0    0    0    0    0    0    0    0    0    0    0    0    0    0    0    0    0    0    0    0    0    0    0    0    0    0    0    0    0    0    0    0    0    0    0    0    0    0    0    0    0    0    0    0    0    0    0    0    0    0    0    0    0    0    0    0    0    0    0    0    0    0    0    0    0    0    0    0    0    0    0    0    0    0    0    0    0    0    0    0    0    0    0    0    0    0    0    0    0    0    0    0    0    0    0    0    0    0    0    0    0    0    0    0    0    0    0    0    0    0    0    0    0    0    0    0    0    0    0    0    0    0    0    0    0    0    0    0    0    0    0    0    0    0    0    0    0    0    0    0    0    0    0    0    0    0    0    0    0    0    0    0    0    0    0    0       1\n",
       "Length: 437, dtype: int64"
      ]
     },
     "execution_count": 15,
     "metadata": {},
     "output_type": "execute_result"
    }
   ],
   "source": [
    "df.value_counts()"
   ]
  },
  {
   "cell_type": "code",
   "execution_count": 16,
   "id": "c6cdf8c3",
   "metadata": {},
   "outputs": [],
   "source": [
    "a = np.ones([3,3], dtype='int')"
   ]
  },
  {
   "cell_type": "code",
   "execution_count": 17,
   "id": "21761803",
   "metadata": {},
   "outputs": [
    {
     "data": {
      "text/plain": [
       "array([[1, 1, 1],\n",
       "       [1, 1, 1],\n",
       "       [1, 1, 1]])"
      ]
     },
     "execution_count": 17,
     "metadata": {},
     "output_type": "execute_result"
    }
   ],
   "source": [
    "a"
   ]
  },
  {
   "cell_type": "code",
   "execution_count": 18,
   "id": "885e9190",
   "metadata": {},
   "outputs": [],
   "source": [
    "b = a.copy()"
   ]
  },
  {
   "cell_type": "code",
   "execution_count": 19,
   "id": "1c416c3d",
   "metadata": {},
   "outputs": [],
   "source": [
    "b[0][1] = 0"
   ]
  },
  {
   "cell_type": "code",
   "execution_count": 28,
   "id": "dea40faf",
   "metadata": {},
   "outputs": [
    {
     "name": "stdout",
     "output_type": "stream",
     "text": [
      "done\n"
     ]
    }
   ],
   "source": [
    "if False in (a==b):\n",
    "    print('done')"
   ]
  },
  {
   "cell_type": "code",
   "execution_count": 31,
   "id": "1c550553",
   "metadata": {},
   "outputs": [
    {
     "data": {
      "text/plain": [
       "numpy.ndarray"
      ]
     },
     "execution_count": 31,
     "metadata": {},
     "output_type": "execute_result"
    }
   ],
   "source": [
    "type(a==b)"
   ]
  },
  {
   "cell_type": "code",
   "execution_count": 10,
   "id": "14a74604",
   "metadata": {},
   "outputs": [],
   "source": [
    "img = imread('task3.png', IMREAD_GRAYSCALE)"
   ]
  },
  {
   "cell_type": "code",
   "execution_count": 13,
   "id": "02050d3b",
   "metadata": {},
   "outputs": [],
   "source": [
    "def morph_erode(img):\n",
    "    \"\"\"\n",
    "    :param img: numpy.ndarray(int or bool), image\n",
    "    :return erode_img: numpy.ndarray(int or bool), image, same size as the input image\n",
    "\n",
    "    Apply mophology erosion on input binary image. \n",
    "    Use 3x3 squared structuring element of all 1's. \n",
    "    \"\"\"\n",
    "    # TO DO: implement your solution here\n",
    "    filter = np.array([1,1,1,1,1,1,1,1,1], dtype='int').reshape([3,3])\n",
    "    pad_img = np.pad(img, (1,1), 'constant', constant_values=(0,0))\n",
    "    erode_img = np.ones(img.shape, dtype='int')\n",
    "    for i in range(1,pad_img.shape[0]-1):\n",
    "        for j in range(1,pad_img.shape[1]-1):\n",
    "            mat = pad_img[i-1:i+2, j-1:j+2]\n",
    "            if False in (filter == mat):\n",
    "                erode_img[i-1][j-1] = 0\n",
    "    print(erode_img)\n",
    "#     imwrite('results/erode.jpg', erode_img)"
   ]
  },
  {
   "cell_type": "code",
   "execution_count": 14,
   "id": "83ca5091",
   "metadata": {},
   "outputs": [
    {
     "name": "stdout",
     "output_type": "stream",
     "text": [
      "[[0 0 0 ... 0 0 0]\n",
      " [0 0 0 ... 0 0 0]\n",
      " [0 0 0 ... 0 0 0]\n",
      " ...\n",
      " [0 0 0 ... 0 0 0]\n",
      " [0 0 0 ... 0 0 0]\n",
      " [0 0 0 ... 0 0 0]]\n"
     ]
    }
   ],
   "source": [
    "morph_erode(img)"
   ]
  },
  {
   "cell_type": "code",
   "execution_count": 36,
   "id": "ab3b5fd6",
   "metadata": {},
   "outputs": [
    {
     "data": {
      "text/plain": [
       "array([[0, 0, 0, ..., 0, 0, 0],\n",
       "       [0, 0, 0, ..., 0, 0, 0],\n",
       "       [0, 0, 0, ..., 0, 0, 0],\n",
       "       ...,\n",
       "       [0, 0, 0, ..., 0, 0, 0],\n",
       "       [0, 0, 0, ..., 0, 0, 0],\n",
       "       [0, 0, 0, ..., 0, 0, 0]], dtype=uint8)"
      ]
     },
     "execution_count": 36,
     "metadata": {},
     "output_type": "execute_result"
    }
   ],
   "source": [
    "img"
   ]
  },
  {
   "cell_type": "code",
   "execution_count": 49,
   "id": "2ff61c4c",
   "metadata": {},
   "outputs": [],
   "source": [
    "filter = np.ones([3,3], dtype='uint8')"
   ]
  },
  {
   "cell_type": "code",
   "execution_count": 51,
   "id": "ddcfe15b",
   "metadata": {},
   "outputs": [
    {
     "data": {
      "text/plain": [
       "True"
      ]
     },
     "execution_count": 51,
     "metadata": {},
     "output_type": "execute_result"
    }
   ],
   "source": [
    "filter[1,1] == 1"
   ]
  },
  {
   "cell_type": "code",
   "execution_count": 20,
   "id": "791c3a17",
   "metadata": {},
   "outputs": [
    {
     "data": {
      "text/plain": [
       "array([[0, 0, 0],\n",
       "       [0, 0, 0],\n",
       "       [0, 0, 0]], dtype=uint8)"
      ]
     },
     "execution_count": 20,
     "metadata": {},
     "output_type": "execute_result"
    }
   ],
   "source": [
    "img[0:3,0:3]"
   ]
  },
  {
   "cell_type": "code",
   "execution_count": 32,
   "id": "281fdb19",
   "metadata": {},
   "outputs": [
    {
     "data": {
      "text/plain": [
       "True"
      ]
     },
     "execution_count": 32,
     "metadata": {},
     "output_type": "execute_result"
    }
   ],
   "source": [
    "not np.all(filter==img[0:3,0:3])"
   ]
  },
  {
   "cell_type": "code",
   "execution_count": 49,
   "id": "98d317c5",
   "metadata": {},
   "outputs": [
    {
     "data": {
      "text/plain": [
       "array([[1, 1, 1],\n",
       "       [1, 1, 1],\n",
       "       [1, 1, 1]])"
      ]
     },
     "execution_count": 49,
     "metadata": {},
     "output_type": "execute_result"
    }
   ],
   "source": [
    "filter"
   ]
  },
  {
   "cell_type": "code",
   "execution_count": 1,
   "id": "ea3a2093",
   "metadata": {},
   "outputs": [
    {
     "data": {
      "text/plain": [
       "filter"
      ]
     },
     "execution_count": 1,
     "metadata": {},
     "output_type": "execute_result"
    }
   ],
   "source": [
    "filter"
   ]
  },
  {
   "cell_type": "code",
   "execution_count": 16,
   "id": "32d38220",
   "metadata": {},
   "outputs": [
    {
     "data": {
      "text/plain": [
       "tuple"
      ]
     },
     "execution_count": 16,
     "metadata": {},
     "output_type": "execute_result"
    }
   ],
   "source": [
    "type(img.shape)"
   ]
  },
  {
   "cell_type": "code",
   "execution_count": 48,
   "id": "f81229e8",
   "metadata": {},
   "outputs": [
    {
     "data": {
      "text/html": [
       "<div>\n",
       "<style scoped>\n",
       "    .dataframe tbody tr th:only-of-type {\n",
       "        vertical-align: middle;\n",
       "    }\n",
       "\n",
       "    .dataframe tbody tr th {\n",
       "        vertical-align: top;\n",
       "    }\n",
       "\n",
       "    .dataframe thead th {\n",
       "        text-align: right;\n",
       "    }\n",
       "</style>\n",
       "<table border=\"1\" class=\"dataframe\">\n",
       "  <thead>\n",
       "    <tr style=\"text-align: right;\">\n",
       "      <th></th>\n",
       "      <th>0</th>\n",
       "      <th>1</th>\n",
       "      <th>2</th>\n",
       "      <th>3</th>\n",
       "      <th>4</th>\n",
       "      <th>5</th>\n",
       "      <th>6</th>\n",
       "      <th>7</th>\n",
       "      <th>8</th>\n",
       "      <th>9</th>\n",
       "      <th>...</th>\n",
       "      <th>490</th>\n",
       "      <th>491</th>\n",
       "      <th>492</th>\n",
       "      <th>493</th>\n",
       "      <th>494</th>\n",
       "      <th>495</th>\n",
       "      <th>496</th>\n",
       "      <th>497</th>\n",
       "      <th>498</th>\n",
       "      <th>499</th>\n",
       "    </tr>\n",
       "  </thead>\n",
       "  <tbody>\n",
       "    <tr>\n",
       "      <th>0</th>\n",
       "      <td>False</td>\n",
       "      <td>False</td>\n",
       "      <td>False</td>\n",
       "      <td>False</td>\n",
       "      <td>False</td>\n",
       "      <td>False</td>\n",
       "      <td>False</td>\n",
       "      <td>False</td>\n",
       "      <td>False</td>\n",
       "      <td>False</td>\n",
       "      <td>...</td>\n",
       "      <td>False</td>\n",
       "      <td>False</td>\n",
       "      <td>False</td>\n",
       "      <td>False</td>\n",
       "      <td>False</td>\n",
       "      <td>False</td>\n",
       "      <td>False</td>\n",
       "      <td>False</td>\n",
       "      <td>False</td>\n",
       "      <td>False</td>\n",
       "    </tr>\n",
       "    <tr>\n",
       "      <th>1</th>\n",
       "      <td>False</td>\n",
       "      <td>False</td>\n",
       "      <td>False</td>\n",
       "      <td>False</td>\n",
       "      <td>False</td>\n",
       "      <td>False</td>\n",
       "      <td>False</td>\n",
       "      <td>False</td>\n",
       "      <td>False</td>\n",
       "      <td>False</td>\n",
       "      <td>...</td>\n",
       "      <td>False</td>\n",
       "      <td>False</td>\n",
       "      <td>False</td>\n",
       "      <td>False</td>\n",
       "      <td>False</td>\n",
       "      <td>False</td>\n",
       "      <td>False</td>\n",
       "      <td>False</td>\n",
       "      <td>False</td>\n",
       "      <td>False</td>\n",
       "    </tr>\n",
       "    <tr>\n",
       "      <th>2</th>\n",
       "      <td>False</td>\n",
       "      <td>False</td>\n",
       "      <td>False</td>\n",
       "      <td>False</td>\n",
       "      <td>False</td>\n",
       "      <td>False</td>\n",
       "      <td>False</td>\n",
       "      <td>False</td>\n",
       "      <td>False</td>\n",
       "      <td>False</td>\n",
       "      <td>...</td>\n",
       "      <td>False</td>\n",
       "      <td>False</td>\n",
       "      <td>False</td>\n",
       "      <td>False</td>\n",
       "      <td>False</td>\n",
       "      <td>False</td>\n",
       "      <td>False</td>\n",
       "      <td>False</td>\n",
       "      <td>False</td>\n",
       "      <td>False</td>\n",
       "    </tr>\n",
       "    <tr>\n",
       "      <th>3</th>\n",
       "      <td>False</td>\n",
       "      <td>False</td>\n",
       "      <td>False</td>\n",
       "      <td>False</td>\n",
       "      <td>False</td>\n",
       "      <td>False</td>\n",
       "      <td>False</td>\n",
       "      <td>False</td>\n",
       "      <td>False</td>\n",
       "      <td>False</td>\n",
       "      <td>...</td>\n",
       "      <td>False</td>\n",
       "      <td>False</td>\n",
       "      <td>False</td>\n",
       "      <td>False</td>\n",
       "      <td>False</td>\n",
       "      <td>False</td>\n",
       "      <td>False</td>\n",
       "      <td>False</td>\n",
       "      <td>False</td>\n",
       "      <td>False</td>\n",
       "    </tr>\n",
       "    <tr>\n",
       "      <th>4</th>\n",
       "      <td>False</td>\n",
       "      <td>False</td>\n",
       "      <td>False</td>\n",
       "      <td>False</td>\n",
       "      <td>False</td>\n",
       "      <td>False</td>\n",
       "      <td>False</td>\n",
       "      <td>False</td>\n",
       "      <td>False</td>\n",
       "      <td>False</td>\n",
       "      <td>...</td>\n",
       "      <td>False</td>\n",
       "      <td>False</td>\n",
       "      <td>False</td>\n",
       "      <td>False</td>\n",
       "      <td>False</td>\n",
       "      <td>False</td>\n",
       "      <td>False</td>\n",
       "      <td>False</td>\n",
       "      <td>False</td>\n",
       "      <td>False</td>\n",
       "    </tr>\n",
       "    <tr>\n",
       "      <th>...</th>\n",
       "      <td>...</td>\n",
       "      <td>...</td>\n",
       "      <td>...</td>\n",
       "      <td>...</td>\n",
       "      <td>...</td>\n",
       "      <td>...</td>\n",
       "      <td>...</td>\n",
       "      <td>...</td>\n",
       "      <td>...</td>\n",
       "      <td>...</td>\n",
       "      <td>...</td>\n",
       "      <td>...</td>\n",
       "      <td>...</td>\n",
       "      <td>...</td>\n",
       "      <td>...</td>\n",
       "      <td>...</td>\n",
       "      <td>...</td>\n",
       "      <td>...</td>\n",
       "      <td>...</td>\n",
       "      <td>...</td>\n",
       "      <td>...</td>\n",
       "    </tr>\n",
       "    <tr>\n",
       "      <th>495</th>\n",
       "      <td>False</td>\n",
       "      <td>False</td>\n",
       "      <td>False</td>\n",
       "      <td>False</td>\n",
       "      <td>False</td>\n",
       "      <td>False</td>\n",
       "      <td>False</td>\n",
       "      <td>False</td>\n",
       "      <td>False</td>\n",
       "      <td>False</td>\n",
       "      <td>...</td>\n",
       "      <td>False</td>\n",
       "      <td>False</td>\n",
       "      <td>False</td>\n",
       "      <td>False</td>\n",
       "      <td>False</td>\n",
       "      <td>False</td>\n",
       "      <td>False</td>\n",
       "      <td>False</td>\n",
       "      <td>False</td>\n",
       "      <td>False</td>\n",
       "    </tr>\n",
       "    <tr>\n",
       "      <th>496</th>\n",
       "      <td>False</td>\n",
       "      <td>False</td>\n",
       "      <td>False</td>\n",
       "      <td>False</td>\n",
       "      <td>False</td>\n",
       "      <td>False</td>\n",
       "      <td>False</td>\n",
       "      <td>False</td>\n",
       "      <td>False</td>\n",
       "      <td>False</td>\n",
       "      <td>...</td>\n",
       "      <td>False</td>\n",
       "      <td>False</td>\n",
       "      <td>False</td>\n",
       "      <td>False</td>\n",
       "      <td>False</td>\n",
       "      <td>False</td>\n",
       "      <td>False</td>\n",
       "      <td>False</td>\n",
       "      <td>False</td>\n",
       "      <td>False</td>\n",
       "    </tr>\n",
       "    <tr>\n",
       "      <th>497</th>\n",
       "      <td>False</td>\n",
       "      <td>False</td>\n",
       "      <td>False</td>\n",
       "      <td>False</td>\n",
       "      <td>False</td>\n",
       "      <td>False</td>\n",
       "      <td>False</td>\n",
       "      <td>False</td>\n",
       "      <td>False</td>\n",
       "      <td>False</td>\n",
       "      <td>...</td>\n",
       "      <td>False</td>\n",
       "      <td>False</td>\n",
       "      <td>False</td>\n",
       "      <td>False</td>\n",
       "      <td>False</td>\n",
       "      <td>False</td>\n",
       "      <td>False</td>\n",
       "      <td>False</td>\n",
       "      <td>False</td>\n",
       "      <td>False</td>\n",
       "    </tr>\n",
       "    <tr>\n",
       "      <th>498</th>\n",
       "      <td>False</td>\n",
       "      <td>False</td>\n",
       "      <td>False</td>\n",
       "      <td>False</td>\n",
       "      <td>False</td>\n",
       "      <td>False</td>\n",
       "      <td>False</td>\n",
       "      <td>False</td>\n",
       "      <td>False</td>\n",
       "      <td>False</td>\n",
       "      <td>...</td>\n",
       "      <td>False</td>\n",
       "      <td>False</td>\n",
       "      <td>False</td>\n",
       "      <td>False</td>\n",
       "      <td>False</td>\n",
       "      <td>False</td>\n",
       "      <td>False</td>\n",
       "      <td>False</td>\n",
       "      <td>False</td>\n",
       "      <td>False</td>\n",
       "    </tr>\n",
       "    <tr>\n",
       "      <th>499</th>\n",
       "      <td>False</td>\n",
       "      <td>False</td>\n",
       "      <td>False</td>\n",
       "      <td>False</td>\n",
       "      <td>False</td>\n",
       "      <td>False</td>\n",
       "      <td>False</td>\n",
       "      <td>False</td>\n",
       "      <td>False</td>\n",
       "      <td>False</td>\n",
       "      <td>...</td>\n",
       "      <td>False</td>\n",
       "      <td>False</td>\n",
       "      <td>False</td>\n",
       "      <td>False</td>\n",
       "      <td>False</td>\n",
       "      <td>False</td>\n",
       "      <td>False</td>\n",
       "      <td>False</td>\n",
       "      <td>False</td>\n",
       "      <td>False</td>\n",
       "    </tr>\n",
       "  </tbody>\n",
       "</table>\n",
       "<p>500 rows × 500 columns</p>\n",
       "</div>"
      ],
      "text/plain": [
       "       0      1      2      3      4      5      6      7      8      9    \\\n",
       "0    False  False  False  False  False  False  False  False  False  False   \n",
       "1    False  False  False  False  False  False  False  False  False  False   \n",
       "2    False  False  False  False  False  False  False  False  False  False   \n",
       "3    False  False  False  False  False  False  False  False  False  False   \n",
       "4    False  False  False  False  False  False  False  False  False  False   \n",
       "..     ...    ...    ...    ...    ...    ...    ...    ...    ...    ...   \n",
       "495  False  False  False  False  False  False  False  False  False  False   \n",
       "496  False  False  False  False  False  False  False  False  False  False   \n",
       "497  False  False  False  False  False  False  False  False  False  False   \n",
       "498  False  False  False  False  False  False  False  False  False  False   \n",
       "499  False  False  False  False  False  False  False  False  False  False   \n",
       "\n",
       "     ...    490    491    492    493    494    495    496    497    498    499  \n",
       "0    ...  False  False  False  False  False  False  False  False  False  False  \n",
       "1    ...  False  False  False  False  False  False  False  False  False  False  \n",
       "2    ...  False  False  False  False  False  False  False  False  False  False  \n",
       "3    ...  False  False  False  False  False  False  False  False  False  False  \n",
       "4    ...  False  False  False  False  False  False  False  False  False  False  \n",
       "..   ...    ...    ...    ...    ...    ...    ...    ...    ...    ...    ...  \n",
       "495  ...  False  False  False  False  False  False  False  False  False  False  \n",
       "496  ...  False  False  False  False  False  False  False  False  False  False  \n",
       "497  ...  False  False  False  False  False  False  False  False  False  False  \n",
       "498  ...  False  False  False  False  False  False  False  False  False  False  \n",
       "499  ...  False  False  False  False  False  False  False  False  False  False  \n",
       "\n",
       "[500 rows x 500 columns]"
      ]
     },
     "execution_count": 48,
     "metadata": {},
     "output_type": "execute_result"
    }
   ],
   "source": [
    "df == 255"
   ]
  },
  {
   "cell_type": "code",
   "execution_count": 52,
   "id": "3136cc52",
   "metadata": {},
   "outputs": [],
   "source": [
    "a = np.ones([3,3])\n",
    "b = a.copy()\n",
    "a = a*3"
   ]
  },
  {
   "cell_type": "code",
   "execution_count": null,
   "id": "6a06348a",
   "metadata": {},
   "outputs": [],
   "source": []
  },
  {
   "cell_type": "code",
   "execution_count": 55,
   "id": "4aecbe2b",
   "metadata": {},
   "outputs": [
    {
     "data": {
      "text/plain": [
       "array([[2., 2., 2.],\n",
       "       [2., 2., 2.],\n",
       "       [2., 2., 2.]])"
      ]
     },
     "execution_count": 55,
     "metadata": {},
     "output_type": "execute_result"
    }
   ],
   "source": [
    "a-b"
   ]
  },
  {
   "cell_type": "code",
   "execution_count": 7,
   "id": "d5704b71",
   "metadata": {},
   "outputs": [],
   "source": [
    "left_img = cv2.imread('left.jpg')\n",
    "right_img = cv2.imread('right.jpg')"
   ]
  },
  {
   "cell_type": "code",
   "execution_count": 8,
   "id": "9e993bc0",
   "metadata": {},
   "outputs": [],
   "source": [
    "left_img = cv2.cvtColor(left_img, cv2.COLOR_BGR2GRAY)\n",
    "right_img = cv2.cvtColor(right_img, cv2.COLOR_BGR2GRAY)"
   ]
  },
  {
   "cell_type": "code",
   "execution_count": 9,
   "id": "c011ae4c",
   "metadata": {},
   "outputs": [],
   "source": [
    "sift = cv2.xfeatures2d.SIFT_create()\n",
    "kp1, des1 = sift.detectAndCompute(left_img, None)\n",
    "kp2, des2 = sift.detectAndCompute(right_img, None)"
   ]
  },
  {
   "cell_type": "code",
   "execution_count": 12,
   "id": "232ed9be",
   "metadata": {},
   "outputs": [
    {
     "data": {
      "text/plain": [
       "(2.389120578765869, 445.5633239746094)"
      ]
     },
     "execution_count": 12,
     "metadata": {},
     "output_type": "execute_result"
    }
   ],
   "source": [
    "kp_left[0].pt"
   ]
  },
  {
   "cell_type": "code",
   "execution_count": 13,
   "id": "f89bb4b8",
   "metadata": {},
   "outputs": [
    {
     "data": {
      "text/plain": [
       "[<KeyPoint 0x7f76de79e870>,\n",
       " <KeyPoint 0x7f76de79e960>,\n",
       " <KeyPoint 0x7f76de79e9c0>,\n",
       " <KeyPoint 0x7f76de79e8a0>,\n",
       " <KeyPoint 0x7f76de79e9f0>,\n",
       " <KeyPoint 0x7f76de79ea50>,\n",
       " <KeyPoint 0x7f76de79ea20>,\n",
       " <KeyPoint 0x7f76de79ea80>,\n",
       " <KeyPoint 0x7f76de79eb10>,\n",
       " <KeyPoint 0x7f76de79e810>,\n",
       " <KeyPoint 0x7f76de79eb40>,\n",
       " <KeyPoint 0x7f76de79eb70>,\n",
       " <KeyPoint 0x7f76de79ec00>,\n",
       " <KeyPoint 0x7f76de79e8d0>,\n",
       " <KeyPoint 0x7f76de79e930>,\n",
       " <KeyPoint 0x7f76de79e900>,\n",
       " <KeyPoint 0x7f76de79ec30>,\n",
       " <KeyPoint 0x7f76de79ecc0>,\n",
       " <KeyPoint 0x7f76de79ecf0>,\n",
       " <KeyPoint 0x7f76de79ed20>,\n",
       " <KeyPoint 0x7f76de79ed50>,\n",
       " <KeyPoint 0x7f76de79ed80>,\n",
       " <KeyPoint 0x7f76de79eab0>,\n",
       " <KeyPoint 0x7f76de79edb0>,\n",
       " <KeyPoint 0x7f76de79eae0>,\n",
       " <KeyPoint 0x7f76de79ede0>,\n",
       " <KeyPoint 0x7f76de79ee10>,\n",
       " <KeyPoint 0x7f76de79e840>,\n",
       " <KeyPoint 0x7f76de79ee40>,\n",
       " <KeyPoint 0x7f76de79ee70>,\n",
       " <KeyPoint 0x7f76de79eea0>,\n",
       " <KeyPoint 0x7f76de79ef00>,\n",
       " <KeyPoint 0x7f76de79ec60>,\n",
       " <KeyPoint 0x7f76de79ef60>,\n",
       " <KeyPoint 0x7f76de79ef90>,\n",
       " <KeyPoint 0x7f76de79efc0>,\n",
       " <KeyPoint 0x7f76de79ebd0>,\n",
       " <KeyPoint 0x7f76de79ec90>,\n",
       " <KeyPoint 0x7f76de79eba0>,\n",
       " <KeyPoint 0x7f76de79ef30>,\n",
       " <KeyPoint 0x7f76de79eed0>,\n",
       " <KeyPoint 0x7f771050cb10>,\n",
       " <KeyPoint 0x7f771050c6c0>,\n",
       " <KeyPoint 0x7f771050cc30>,\n",
       " <KeyPoint 0x7f771050cbd0>,\n",
       " <KeyPoint 0x7f771050cdb0>,\n",
       " <KeyPoint 0x7f771050cba0>,\n",
       " <KeyPoint 0x7f771050c780>,\n",
       " <KeyPoint 0x7f771050cc60>,\n",
       " <KeyPoint 0x7f771050c570>,\n",
       " <KeyPoint 0x7f771050c270>,\n",
       " <KeyPoint 0x7f76dfcc4300>,\n",
       " <KeyPoint 0x7f76dfcc43f0>,\n",
       " <KeyPoint 0x7f76dfcc4390>,\n",
       " <KeyPoint 0x7f76dfcc4060>,\n",
       " <KeyPoint 0x7f76d7caa030>,\n",
       " <KeyPoint 0x7f76d7caa060>,\n",
       " <KeyPoint 0x7f76d7caa090>,\n",
       " <KeyPoint 0x7f76d7caa0c0>,\n",
       " <KeyPoint 0x7f76d7caa0f0>,\n",
       " <KeyPoint 0x7f76d7caa120>,\n",
       " <KeyPoint 0x7f76d7caa150>,\n",
       " <KeyPoint 0x7f76d7caa180>,\n",
       " <KeyPoint 0x7f76d7caa1b0>,\n",
       " <KeyPoint 0x7f76d7caa1e0>,\n",
       " <KeyPoint 0x7f76d7caa210>,\n",
       " <KeyPoint 0x7f76d7caa240>,\n",
       " <KeyPoint 0x7f76d7caa270>,\n",
       " <KeyPoint 0x7f76d7caa2a0>,\n",
       " <KeyPoint 0x7f76d7caa2d0>,\n",
       " <KeyPoint 0x7f76d7caa300>,\n",
       " <KeyPoint 0x7f76d7caa330>,\n",
       " <KeyPoint 0x7f76d7caa360>,\n",
       " <KeyPoint 0x7f76d7caa390>,\n",
       " <KeyPoint 0x7f76d7caa3c0>,\n",
       " <KeyPoint 0x7f76d7caa3f0>,\n",
       " <KeyPoint 0x7f76d7caa420>,\n",
       " <KeyPoint 0x7f76d7caa450>,\n",
       " <KeyPoint 0x7f76d7caa480>,\n",
       " <KeyPoint 0x7f76d7caa4b0>,\n",
       " <KeyPoint 0x7f76d7caa4e0>,\n",
       " <KeyPoint 0x7f76d7caa510>,\n",
       " <KeyPoint 0x7f76d7caa540>,\n",
       " <KeyPoint 0x7f76d7caa570>,\n",
       " <KeyPoint 0x7f76d7caa5a0>,\n",
       " <KeyPoint 0x7f76d7caa5d0>,\n",
       " <KeyPoint 0x7f76d7caa600>,\n",
       " <KeyPoint 0x7f76d7caa630>,\n",
       " <KeyPoint 0x7f76d7caa660>,\n",
       " <KeyPoint 0x7f76d7caa690>,\n",
       " <KeyPoint 0x7f76d7caa6c0>,\n",
       " <KeyPoint 0x7f76d7caa6f0>,\n",
       " <KeyPoint 0x7f76d7caa720>,\n",
       " <KeyPoint 0x7f76d7caa750>,\n",
       " <KeyPoint 0x7f76d7caa780>,\n",
       " <KeyPoint 0x7f76d7caa7b0>,\n",
       " <KeyPoint 0x7f76d7caa7e0>,\n",
       " <KeyPoint 0x7f76d7caa810>,\n",
       " <KeyPoint 0x7f76d7caa840>,\n",
       " <KeyPoint 0x7f76d7caa870>,\n",
       " <KeyPoint 0x7f76d7caa8a0>,\n",
       " <KeyPoint 0x7f76d7caa8d0>,\n",
       " <KeyPoint 0x7f76d7caa900>,\n",
       " <KeyPoint 0x7f76d7caa930>,\n",
       " <KeyPoint 0x7f76d7caa960>,\n",
       " <KeyPoint 0x7f76d7caa990>,\n",
       " <KeyPoint 0x7f76d7caa9c0>,\n",
       " <KeyPoint 0x7f76d7caa9f0>,\n",
       " <KeyPoint 0x7f76d7caaa20>,\n",
       " <KeyPoint 0x7f76d7caaa50>,\n",
       " <KeyPoint 0x7f76d7caaa80>,\n",
       " <KeyPoint 0x7f76d7caaab0>,\n",
       " <KeyPoint 0x7f76d7caaae0>,\n",
       " <KeyPoint 0x7f76d7caab10>,\n",
       " <KeyPoint 0x7f76d7caab40>,\n",
       " <KeyPoint 0x7f76d7caab70>,\n",
       " <KeyPoint 0x7f76d7caaba0>,\n",
       " <KeyPoint 0x7f76d7caabd0>,\n",
       " <KeyPoint 0x7f76d7caac00>,\n",
       " <KeyPoint 0x7f76d7caac30>,\n",
       " <KeyPoint 0x7f76d7caac60>,\n",
       " <KeyPoint 0x7f76d7caac90>,\n",
       " <KeyPoint 0x7f76d7caacc0>,\n",
       " <KeyPoint 0x7f76d7caacf0>,\n",
       " <KeyPoint 0x7f76d7caad20>,\n",
       " <KeyPoint 0x7f76d7caad50>,\n",
       " <KeyPoint 0x7f76d7caad80>,\n",
       " <KeyPoint 0x7f76d7caadb0>,\n",
       " <KeyPoint 0x7f76d7caade0>,\n",
       " <KeyPoint 0x7f76d7caae10>,\n",
       " <KeyPoint 0x7f76d7caae40>,\n",
       " <KeyPoint 0x7f76d7caae70>,\n",
       " <KeyPoint 0x7f76d7caaea0>,\n",
       " <KeyPoint 0x7f76d7caaed0>,\n",
       " <KeyPoint 0x7f76d7caaf00>,\n",
       " <KeyPoint 0x7f76d7caaf30>,\n",
       " <KeyPoint 0x7f76d7caaf60>,\n",
       " <KeyPoint 0x7f76d7caaf90>,\n",
       " <KeyPoint 0x7f76d7caafc0>,\n",
       " <KeyPoint 0x7f76d7cab030>,\n",
       " <KeyPoint 0x7f76d7cab060>,\n",
       " <KeyPoint 0x7f76d7cab090>,\n",
       " <KeyPoint 0x7f76d7cab0c0>,\n",
       " <KeyPoint 0x7f76d7cab0f0>,\n",
       " <KeyPoint 0x7f76d7cab120>,\n",
       " <KeyPoint 0x7f76d7cab150>,\n",
       " <KeyPoint 0x7f76d7cab180>,\n",
       " <KeyPoint 0x7f76d7cab1b0>,\n",
       " <KeyPoint 0x7f76d7cab1e0>,\n",
       " <KeyPoint 0x7f76d7cab210>,\n",
       " <KeyPoint 0x7f76d7cab240>,\n",
       " <KeyPoint 0x7f76d7cab270>,\n",
       " <KeyPoint 0x7f76d7cab2a0>,\n",
       " <KeyPoint 0x7f76d7cab2d0>,\n",
       " <KeyPoint 0x7f76d7cab300>,\n",
       " <KeyPoint 0x7f76d7cab330>,\n",
       " <KeyPoint 0x7f76d7cab360>,\n",
       " <KeyPoint 0x7f76d7cab390>,\n",
       " <KeyPoint 0x7f76d7cab3c0>,\n",
       " <KeyPoint 0x7f76d7cab3f0>,\n",
       " <KeyPoint 0x7f76d7cab420>,\n",
       " <KeyPoint 0x7f76d7cab450>,\n",
       " <KeyPoint 0x7f76d7cab480>,\n",
       " <KeyPoint 0x7f76d7cab4b0>,\n",
       " <KeyPoint 0x7f76d7cab4e0>,\n",
       " <KeyPoint 0x7f76d7cab510>,\n",
       " <KeyPoint 0x7f76d7cab540>,\n",
       " <KeyPoint 0x7f76d7cab570>,\n",
       " <KeyPoint 0x7f76d7cab5a0>,\n",
       " <KeyPoint 0x7f76d7cab5d0>,\n",
       " <KeyPoint 0x7f76d7cab600>,\n",
       " <KeyPoint 0x7f76d7cab630>,\n",
       " <KeyPoint 0x7f76d7cab660>,\n",
       " <KeyPoint 0x7f76d7cab690>,\n",
       " <KeyPoint 0x7f76d7cab6c0>,\n",
       " <KeyPoint 0x7f76d7cab6f0>,\n",
       " <KeyPoint 0x7f76d7cab720>,\n",
       " <KeyPoint 0x7f76d7cab750>,\n",
       " <KeyPoint 0x7f76d7cab780>,\n",
       " <KeyPoint 0x7f76d7cab7b0>,\n",
       " <KeyPoint 0x7f76d7cab7e0>,\n",
       " <KeyPoint 0x7f76d7cab810>,\n",
       " <KeyPoint 0x7f76d7cab840>,\n",
       " <KeyPoint 0x7f76d7cab870>,\n",
       " <KeyPoint 0x7f76d7cab8a0>,\n",
       " <KeyPoint 0x7f76d7cab8d0>,\n",
       " <KeyPoint 0x7f76d7cab900>,\n",
       " <KeyPoint 0x7f76d7cab930>,\n",
       " <KeyPoint 0x7f76d7cab960>,\n",
       " <KeyPoint 0x7f76d7cab990>,\n",
       " <KeyPoint 0x7f76d7cab9c0>,\n",
       " <KeyPoint 0x7f76d7cab9f0>,\n",
       " <KeyPoint 0x7f76d7caba20>,\n",
       " <KeyPoint 0x7f76d7caba50>,\n",
       " <KeyPoint 0x7f76d7caba80>,\n",
       " <KeyPoint 0x7f76d7cabab0>,\n",
       " <KeyPoint 0x7f76d7cabae0>,\n",
       " <KeyPoint 0x7f76d7cabb10>,\n",
       " <KeyPoint 0x7f76d7cabb40>,\n",
       " <KeyPoint 0x7f76d7cabb70>,\n",
       " <KeyPoint 0x7f76d7cabba0>,\n",
       " <KeyPoint 0x7f76d7cabbd0>,\n",
       " <KeyPoint 0x7f76d7cabc00>,\n",
       " <KeyPoint 0x7f76d7cabc30>,\n",
       " <KeyPoint 0x7f76d7cabc60>,\n",
       " <KeyPoint 0x7f76d7cabc90>,\n",
       " <KeyPoint 0x7f76d7cabcc0>,\n",
       " <KeyPoint 0x7f76d7cabcf0>,\n",
       " <KeyPoint 0x7f76d7cabd20>,\n",
       " <KeyPoint 0x7f76d7cabd50>,\n",
       " <KeyPoint 0x7f76d7cabd80>,\n",
       " <KeyPoint 0x7f76d7cabdb0>,\n",
       " <KeyPoint 0x7f76d7cabde0>,\n",
       " <KeyPoint 0x7f76d7cabe10>,\n",
       " <KeyPoint 0x7f76d7cabe40>,\n",
       " <KeyPoint 0x7f76d7cabe70>,\n",
       " <KeyPoint 0x7f76d7cabea0>,\n",
       " <KeyPoint 0x7f76d7cabed0>,\n",
       " <KeyPoint 0x7f76d7cabf00>,\n",
       " <KeyPoint 0x7f76d7cabf30>,\n",
       " <KeyPoint 0x7f76d7cabf60>,\n",
       " <KeyPoint 0x7f76d7cabf90>,\n",
       " <KeyPoint 0x7f76d7cabfc0>,\n",
       " <KeyPoint 0x7f76d7cac030>,\n",
       " <KeyPoint 0x7f76d7cac060>,\n",
       " <KeyPoint 0x7f76d7cac090>,\n",
       " <KeyPoint 0x7f76d7cac0c0>,\n",
       " <KeyPoint 0x7f76d7cac0f0>,\n",
       " <KeyPoint 0x7f76d7cac120>,\n",
       " <KeyPoint 0x7f76d7cac150>,\n",
       " <KeyPoint 0x7f76d7cac180>,\n",
       " <KeyPoint 0x7f76d7cac1b0>,\n",
       " <KeyPoint 0x7f76d7cac1e0>,\n",
       " <KeyPoint 0x7f76d7cac210>,\n",
       " <KeyPoint 0x7f76d7cac240>,\n",
       " <KeyPoint 0x7f76d7cac270>,\n",
       " <KeyPoint 0x7f76d7cac2a0>,\n",
       " <KeyPoint 0x7f76d7cac2d0>,\n",
       " <KeyPoint 0x7f76d7cac300>,\n",
       " <KeyPoint 0x7f76d7cac330>,\n",
       " <KeyPoint 0x7f76d7cac360>,\n",
       " <KeyPoint 0x7f76d7cac390>,\n",
       " <KeyPoint 0x7f76d7cac3c0>,\n",
       " <KeyPoint 0x7f76d7cac3f0>,\n",
       " <KeyPoint 0x7f76d7cac420>,\n",
       " <KeyPoint 0x7f76d7cac450>,\n",
       " <KeyPoint 0x7f76d7cac480>,\n",
       " <KeyPoint 0x7f76d7cac4b0>,\n",
       " <KeyPoint 0x7f76d7cac4e0>,\n",
       " <KeyPoint 0x7f76d7cac510>,\n",
       " <KeyPoint 0x7f76d7cac540>,\n",
       " <KeyPoint 0x7f76d7cac570>,\n",
       " <KeyPoint 0x7f76d7cac5a0>,\n",
       " <KeyPoint 0x7f76d7cac5d0>,\n",
       " <KeyPoint 0x7f76d7cac600>,\n",
       " <KeyPoint 0x7f76d7cac630>,\n",
       " <KeyPoint 0x7f76d7cac660>,\n",
       " <KeyPoint 0x7f76d7cac690>,\n",
       " <KeyPoint 0x7f76d7cac6c0>,\n",
       " <KeyPoint 0x7f76d7cac6f0>,\n",
       " <KeyPoint 0x7f76d7cac720>,\n",
       " <KeyPoint 0x7f76d7cac750>,\n",
       " <KeyPoint 0x7f76d7cac780>,\n",
       " <KeyPoint 0x7f76d7cac7b0>,\n",
       " <KeyPoint 0x7f76d7cac7e0>,\n",
       " <KeyPoint 0x7f76d7cac810>,\n",
       " <KeyPoint 0x7f76d7cac840>,\n",
       " <KeyPoint 0x7f76d7cac870>,\n",
       " <KeyPoint 0x7f76d7cac8a0>,\n",
       " <KeyPoint 0x7f76d7cac8d0>,\n",
       " <KeyPoint 0x7f76d7cac900>,\n",
       " <KeyPoint 0x7f76d7cac930>,\n",
       " <KeyPoint 0x7f76d7cac960>,\n",
       " <KeyPoint 0x7f76d7cac990>,\n",
       " <KeyPoint 0x7f76d7cac9c0>,\n",
       " <KeyPoint 0x7f76d7cac9f0>,\n",
       " <KeyPoint 0x7f76d7caca20>,\n",
       " <KeyPoint 0x7f76d7caca50>,\n",
       " <KeyPoint 0x7f76d7caca80>,\n",
       " <KeyPoint 0x7f76d7cacab0>,\n",
       " <KeyPoint 0x7f76d7cacae0>,\n",
       " <KeyPoint 0x7f76d7cacb10>,\n",
       " <KeyPoint 0x7f76d7cacb40>,\n",
       " <KeyPoint 0x7f76d7cacb70>,\n",
       " <KeyPoint 0x7f76d7cacba0>,\n",
       " <KeyPoint 0x7f76d7cacbd0>,\n",
       " <KeyPoint 0x7f76d7cacc00>,\n",
       " <KeyPoint 0x7f76d7cacc30>,\n",
       " <KeyPoint 0x7f76d7cacc60>,\n",
       " <KeyPoint 0x7f76d7cacc90>,\n",
       " <KeyPoint 0x7f76d7caccc0>,\n",
       " <KeyPoint 0x7f76d7caccf0>,\n",
       " <KeyPoint 0x7f76d7cacd20>,\n",
       " <KeyPoint 0x7f76d7cacd50>,\n",
       " <KeyPoint 0x7f76d7cacd80>,\n",
       " <KeyPoint 0x7f76d7cacdb0>,\n",
       " <KeyPoint 0x7f76d7cacde0>,\n",
       " <KeyPoint 0x7f76d7cace10>,\n",
       " <KeyPoint 0x7f76d7cace40>,\n",
       " <KeyPoint 0x7f76d7cace70>,\n",
       " <KeyPoint 0x7f76d7cacea0>,\n",
       " <KeyPoint 0x7f76d7caced0>,\n",
       " <KeyPoint 0x7f76d7cacf00>,\n",
       " <KeyPoint 0x7f76d7cacf30>,\n",
       " <KeyPoint 0x7f76d7cacf60>,\n",
       " <KeyPoint 0x7f76d7cacf90>,\n",
       " <KeyPoint 0x7f76d7cacfc0>,\n",
       " <KeyPoint 0x7f76d7cad030>,\n",
       " <KeyPoint 0x7f76d7cad060>,\n",
       " <KeyPoint 0x7f76d7cad090>,\n",
       " <KeyPoint 0x7f76d7cad0c0>,\n",
       " <KeyPoint 0x7f76d7cad0f0>,\n",
       " <KeyPoint 0x7f76d7cad120>,\n",
       " <KeyPoint 0x7f76d7cad150>,\n",
       " <KeyPoint 0x7f76d7cad180>,\n",
       " <KeyPoint 0x7f76d7cad1b0>,\n",
       " <KeyPoint 0x7f76d7cad1e0>,\n",
       " <KeyPoint 0x7f76d7cad210>,\n",
       " <KeyPoint 0x7f76d7cad240>,\n",
       " <KeyPoint 0x7f76d7cad270>,\n",
       " <KeyPoint 0x7f76d7cad2a0>,\n",
       " <KeyPoint 0x7f76d7cad2d0>,\n",
       " <KeyPoint 0x7f76d7cad300>,\n",
       " <KeyPoint 0x7f76d7cad330>,\n",
       " <KeyPoint 0x7f76d7cad360>,\n",
       " <KeyPoint 0x7f76d7cad390>,\n",
       " <KeyPoint 0x7f76d7cad3c0>,\n",
       " <KeyPoint 0x7f76d7cad3f0>,\n",
       " <KeyPoint 0x7f76d7cad420>,\n",
       " <KeyPoint 0x7f76d7cad450>,\n",
       " <KeyPoint 0x7f76d7cad480>,\n",
       " <KeyPoint 0x7f76d7cad4b0>,\n",
       " <KeyPoint 0x7f76d7cad4e0>,\n",
       " <KeyPoint 0x7f76d7cad510>,\n",
       " <KeyPoint 0x7f76d7cad540>,\n",
       " <KeyPoint 0x7f76d7cad570>,\n",
       " <KeyPoint 0x7f76d7cad5a0>,\n",
       " <KeyPoint 0x7f76d7cad5d0>,\n",
       " <KeyPoint 0x7f76d7cad600>,\n",
       " <KeyPoint 0x7f76d7cad630>,\n",
       " <KeyPoint 0x7f76d7cad660>,\n",
       " <KeyPoint 0x7f76d7cad690>,\n",
       " <KeyPoint 0x7f76d7cad6c0>,\n",
       " <KeyPoint 0x7f76d7cad6f0>,\n",
       " <KeyPoint 0x7f76d7cad720>,\n",
       " <KeyPoint 0x7f76d7cad750>,\n",
       " <KeyPoint 0x7f76d7cad780>,\n",
       " <KeyPoint 0x7f76d7cad7b0>,\n",
       " <KeyPoint 0x7f76d7cad7e0>,\n",
       " <KeyPoint 0x7f76d7cad810>,\n",
       " <KeyPoint 0x7f76d7cad840>,\n",
       " <KeyPoint 0x7f76d7cad870>,\n",
       " <KeyPoint 0x7f76d7cad8a0>,\n",
       " <KeyPoint 0x7f76d7cad8d0>,\n",
       " <KeyPoint 0x7f76d7cad900>,\n",
       " <KeyPoint 0x7f76d7cad930>,\n",
       " <KeyPoint 0x7f76d7cad960>,\n",
       " <KeyPoint 0x7f76d7cad990>,\n",
       " <KeyPoint 0x7f76d7cad9c0>,\n",
       " <KeyPoint 0x7f76d7cad9f0>,\n",
       " <KeyPoint 0x7f76d7cada20>,\n",
       " <KeyPoint 0x7f76d7cada50>,\n",
       " <KeyPoint 0x7f76d7cada80>,\n",
       " <KeyPoint 0x7f76d7cadab0>,\n",
       " <KeyPoint 0x7f76d7cadae0>,\n",
       " <KeyPoint 0x7f76d7cadb10>,\n",
       " <KeyPoint 0x7f76d7cadb40>,\n",
       " <KeyPoint 0x7f76d7cadb70>,\n",
       " <KeyPoint 0x7f76d7cadba0>,\n",
       " <KeyPoint 0x7f76d7cadbd0>,\n",
       " <KeyPoint 0x7f76d7cadc00>,\n",
       " <KeyPoint 0x7f76d7cadc30>,\n",
       " <KeyPoint 0x7f76d7cadc60>,\n",
       " <KeyPoint 0x7f76d7cadc90>,\n",
       " <KeyPoint 0x7f76d7cadcc0>,\n",
       " <KeyPoint 0x7f76d7cadcf0>,\n",
       " <KeyPoint 0x7f76d7cadd20>,\n",
       " <KeyPoint 0x7f76d7cadd50>,\n",
       " <KeyPoint 0x7f76d7cadd80>,\n",
       " <KeyPoint 0x7f76d7caddb0>,\n",
       " <KeyPoint 0x7f76d7cadde0>,\n",
       " <KeyPoint 0x7f76d7cade10>,\n",
       " <KeyPoint 0x7f76d7cade40>,\n",
       " <KeyPoint 0x7f76d7cade70>,\n",
       " <KeyPoint 0x7f76d7cadea0>,\n",
       " <KeyPoint 0x7f76d7caded0>,\n",
       " <KeyPoint 0x7f76d7cadf00>,\n",
       " <KeyPoint 0x7f76d7cadf30>,\n",
       " <KeyPoint 0x7f76d7cadf60>,\n",
       " <KeyPoint 0x7f76d7cadf90>,\n",
       " <KeyPoint 0x7f76d7cadfc0>,\n",
       " <KeyPoint 0x7f76d7cae030>,\n",
       " <KeyPoint 0x7f76d7cae060>,\n",
       " <KeyPoint 0x7f76d7cae090>,\n",
       " <KeyPoint 0x7f76d7cae0c0>,\n",
       " <KeyPoint 0x7f76d7cae0f0>,\n",
       " <KeyPoint 0x7f76d7cae120>,\n",
       " <KeyPoint 0x7f76d7cae150>,\n",
       " <KeyPoint 0x7f76d7cae180>,\n",
       " <KeyPoint 0x7f76d7cae1b0>,\n",
       " <KeyPoint 0x7f76d7cae1e0>,\n",
       " <KeyPoint 0x7f76d7cae210>,\n",
       " <KeyPoint 0x7f76d7cae240>,\n",
       " <KeyPoint 0x7f76d7cae270>,\n",
       " <KeyPoint 0x7f76d7cae2a0>,\n",
       " <KeyPoint 0x7f76d7cae2d0>,\n",
       " <KeyPoint 0x7f76d7cae300>,\n",
       " <KeyPoint 0x7f76d7cae330>,\n",
       " <KeyPoint 0x7f76d7cae360>,\n",
       " <KeyPoint 0x7f76d7cae390>,\n",
       " <KeyPoint 0x7f76d7cae3c0>,\n",
       " <KeyPoint 0x7f76d7cae3f0>,\n",
       " <KeyPoint 0x7f76d7cae420>,\n",
       " <KeyPoint 0x7f76d7cae450>,\n",
       " <KeyPoint 0x7f76d7cae480>,\n",
       " <KeyPoint 0x7f76d7cae4b0>,\n",
       " <KeyPoint 0x7f76d7cae4e0>,\n",
       " <KeyPoint 0x7f76d7cae510>,\n",
       " <KeyPoint 0x7f76d7cae540>,\n",
       " <KeyPoint 0x7f76d7cae570>,\n",
       " <KeyPoint 0x7f76d7cae5a0>,\n",
       " <KeyPoint 0x7f76d7cae5d0>,\n",
       " <KeyPoint 0x7f76d7cae600>,\n",
       " <KeyPoint 0x7f76d7cae630>,\n",
       " <KeyPoint 0x7f76d7cae660>,\n",
       " <KeyPoint 0x7f76d7cae690>,\n",
       " <KeyPoint 0x7f76d7cae6c0>,\n",
       " <KeyPoint 0x7f76d7cae6f0>,\n",
       " <KeyPoint 0x7f76d7cae720>,\n",
       " <KeyPoint 0x7f76d7cae750>,\n",
       " <KeyPoint 0x7f76d7cae780>,\n",
       " <KeyPoint 0x7f76d7cae7b0>,\n",
       " <KeyPoint 0x7f76d7cae7e0>,\n",
       " <KeyPoint 0x7f76d7cae810>,\n",
       " <KeyPoint 0x7f76d7cae840>,\n",
       " <KeyPoint 0x7f76d7cae870>,\n",
       " <KeyPoint 0x7f76d7cae8a0>,\n",
       " <KeyPoint 0x7f76d7cae8d0>,\n",
       " <KeyPoint 0x7f76d7cae900>,\n",
       " <KeyPoint 0x7f76d7cae930>,\n",
       " <KeyPoint 0x7f76d7cae960>,\n",
       " <KeyPoint 0x7f76d7cae990>,\n",
       " <KeyPoint 0x7f76d7cae9c0>,\n",
       " <KeyPoint 0x7f76d7cae9f0>,\n",
       " <KeyPoint 0x7f76d7caea20>,\n",
       " <KeyPoint 0x7f76d7caea50>,\n",
       " <KeyPoint 0x7f76d7caea80>,\n",
       " <KeyPoint 0x7f76d7caeab0>,\n",
       " <KeyPoint 0x7f76d7caeae0>,\n",
       " <KeyPoint 0x7f76d7caeb10>,\n",
       " <KeyPoint 0x7f76d7caeb40>,\n",
       " <KeyPoint 0x7f76d7caeb70>,\n",
       " <KeyPoint 0x7f76d7caeba0>,\n",
       " <KeyPoint 0x7f76d7caebd0>,\n",
       " <KeyPoint 0x7f76d7caec00>,\n",
       " <KeyPoint 0x7f76d7caec30>,\n",
       " <KeyPoint 0x7f76d7caec60>,\n",
       " <KeyPoint 0x7f76d7caec90>,\n",
       " <KeyPoint 0x7f76d7caecc0>,\n",
       " <KeyPoint 0x7f76d7caecf0>,\n",
       " <KeyPoint 0x7f76d7caed20>,\n",
       " <KeyPoint 0x7f76d7caed50>,\n",
       " <KeyPoint 0x7f76d7caed80>,\n",
       " <KeyPoint 0x7f76d7caedb0>,\n",
       " <KeyPoint 0x7f76d7caede0>,\n",
       " <KeyPoint 0x7f76d7caee10>,\n",
       " <KeyPoint 0x7f76d7caee40>,\n",
       " <KeyPoint 0x7f76d7caee70>,\n",
       " <KeyPoint 0x7f76d7caeea0>,\n",
       " <KeyPoint 0x7f76d7caeed0>,\n",
       " <KeyPoint 0x7f76d7caef00>,\n",
       " <KeyPoint 0x7f76d7caef30>,\n",
       " <KeyPoint 0x7f76d7caef60>,\n",
       " <KeyPoint 0x7f76d7caef90>,\n",
       " <KeyPoint 0x7f76d7caefc0>,\n",
       " <KeyPoint 0x7f76d7caf030>,\n",
       " <KeyPoint 0x7f76d7caf060>,\n",
       " <KeyPoint 0x7f76d7caf090>,\n",
       " <KeyPoint 0x7f76d7caf0c0>,\n",
       " <KeyPoint 0x7f76d7caf0f0>,\n",
       " <KeyPoint 0x7f76d7caf120>,\n",
       " <KeyPoint 0x7f76d7caf150>,\n",
       " <KeyPoint 0x7f76d7caf180>,\n",
       " <KeyPoint 0x7f76d7caf1b0>,\n",
       " <KeyPoint 0x7f76d7caf1e0>,\n",
       " <KeyPoint 0x7f76d7caf210>,\n",
       " <KeyPoint 0x7f76d7caf240>,\n",
       " <KeyPoint 0x7f76d7caf270>,\n",
       " <KeyPoint 0x7f76d7caf2a0>,\n",
       " <KeyPoint 0x7f76d7caf2d0>,\n",
       " <KeyPoint 0x7f76d7caf300>,\n",
       " <KeyPoint 0x7f76d7caf330>,\n",
       " <KeyPoint 0x7f76d7caf360>,\n",
       " <KeyPoint 0x7f76d7caf390>,\n",
       " <KeyPoint 0x7f76d7caf3c0>,\n",
       " <KeyPoint 0x7f76d7caf3f0>,\n",
       " <KeyPoint 0x7f76d7caf420>,\n",
       " <KeyPoint 0x7f76d7caf450>,\n",
       " <KeyPoint 0x7f76d7caf480>,\n",
       " <KeyPoint 0x7f76d7caf4b0>,\n",
       " <KeyPoint 0x7f76d7caf4e0>,\n",
       " <KeyPoint 0x7f76d7caf510>,\n",
       " <KeyPoint 0x7f76d7caf540>,\n",
       " <KeyPoint 0x7f76d7caf570>,\n",
       " <KeyPoint 0x7f76d7caf5a0>,\n",
       " <KeyPoint 0x7f76d7caf5d0>,\n",
       " <KeyPoint 0x7f76d7caf600>,\n",
       " <KeyPoint 0x7f76d7caf630>,\n",
       " <KeyPoint 0x7f76d7caf660>,\n",
       " <KeyPoint 0x7f76d7caf690>,\n",
       " <KeyPoint 0x7f76d7caf6c0>,\n",
       " <KeyPoint 0x7f76d7caf6f0>,\n",
       " <KeyPoint 0x7f76d7caf720>,\n",
       " <KeyPoint 0x7f76d7caf750>,\n",
       " <KeyPoint 0x7f76d7caf780>,\n",
       " <KeyPoint 0x7f76d7caf7b0>,\n",
       " <KeyPoint 0x7f76d7caf7e0>,\n",
       " <KeyPoint 0x7f76d7caf810>,\n",
       " <KeyPoint 0x7f76d7caf840>,\n",
       " <KeyPoint 0x7f76d7caf870>,\n",
       " <KeyPoint 0x7f76d7caf8a0>,\n",
       " <KeyPoint 0x7f76d7caf8d0>,\n",
       " <KeyPoint 0x7f76d7caf900>,\n",
       " <KeyPoint 0x7f76d7caf930>,\n",
       " <KeyPoint 0x7f76d7caf960>,\n",
       " <KeyPoint 0x7f76d7caf990>,\n",
       " <KeyPoint 0x7f76d7caf9c0>,\n",
       " <KeyPoint 0x7f76d7caf9f0>,\n",
       " <KeyPoint 0x7f76d7cafa20>,\n",
       " <KeyPoint 0x7f76d7cafa50>,\n",
       " <KeyPoint 0x7f76d7cafa80>,\n",
       " <KeyPoint 0x7f76d7cafab0>,\n",
       " <KeyPoint 0x7f76d7cafae0>,\n",
       " <KeyPoint 0x7f76d7cafb10>,\n",
       " <KeyPoint 0x7f76d7cafb40>,\n",
       " <KeyPoint 0x7f76d7cafb70>,\n",
       " <KeyPoint 0x7f76d7cafba0>,\n",
       " <KeyPoint 0x7f76d7cafbd0>,\n",
       " <KeyPoint 0x7f76d7cafc00>,\n",
       " <KeyPoint 0x7f76d7cafc30>,\n",
       " <KeyPoint 0x7f76d7cafc60>,\n",
       " <KeyPoint 0x7f76d7cafc90>,\n",
       " <KeyPoint 0x7f76d7cafcc0>,\n",
       " <KeyPoint 0x7f76d7cafcf0>,\n",
       " <KeyPoint 0x7f76d7cafd20>,\n",
       " <KeyPoint 0x7f76d7cafd50>,\n",
       " <KeyPoint 0x7f76d7cafd80>,\n",
       " <KeyPoint 0x7f76d7cafdb0>,\n",
       " <KeyPoint 0x7f76d7cafde0>,\n",
       " <KeyPoint 0x7f76d7cafe10>,\n",
       " <KeyPoint 0x7f76d7cafe40>,\n",
       " <KeyPoint 0x7f76d7cafe70>,\n",
       " <KeyPoint 0x7f76d7cafea0>,\n",
       " <KeyPoint 0x7f76d7cafed0>,\n",
       " <KeyPoint 0x7f76d7caff00>,\n",
       " <KeyPoint 0x7f76d7caff30>,\n",
       " <KeyPoint 0x7f76d7caff60>,\n",
       " <KeyPoint 0x7f76d7caff90>,\n",
       " <KeyPoint 0x7f76d7caffc0>,\n",
       " <KeyPoint 0x7f76d7cb0030>,\n",
       " <KeyPoint 0x7f76d7cb0060>,\n",
       " <KeyPoint 0x7f76d7cb0090>,\n",
       " <KeyPoint 0x7f76d7cb00c0>,\n",
       " <KeyPoint 0x7f76d7cb00f0>,\n",
       " <KeyPoint 0x7f76d7cb0120>,\n",
       " <KeyPoint 0x7f76d7cb0150>,\n",
       " <KeyPoint 0x7f76d7cb0180>,\n",
       " <KeyPoint 0x7f76d7cb01b0>,\n",
       " <KeyPoint 0x7f76d7cb01e0>,\n",
       " <KeyPoint 0x7f76d7cb0210>,\n",
       " <KeyPoint 0x7f76d7cb0240>,\n",
       " <KeyPoint 0x7f76d7cb0270>,\n",
       " <KeyPoint 0x7f76d7cb02a0>,\n",
       " <KeyPoint 0x7f76d7cb02d0>,\n",
       " <KeyPoint 0x7f76d7cb0300>,\n",
       " <KeyPoint 0x7f76d7cb0330>,\n",
       " <KeyPoint 0x7f76d7cb0360>,\n",
       " <KeyPoint 0x7f76d7cb0390>,\n",
       " <KeyPoint 0x7f76d7cb03c0>,\n",
       " <KeyPoint 0x7f76d7cb03f0>,\n",
       " <KeyPoint 0x7f76d7cb0420>,\n",
       " <KeyPoint 0x7f76d7cb0450>,\n",
       " <KeyPoint 0x7f76d7cb0480>,\n",
       " <KeyPoint 0x7f76d7cb04b0>,\n",
       " <KeyPoint 0x7f76d7cb04e0>,\n",
       " <KeyPoint 0x7f76d7cb0510>,\n",
       " <KeyPoint 0x7f76d7cb0540>,\n",
       " <KeyPoint 0x7f76d7cb0570>,\n",
       " <KeyPoint 0x7f76d7cb05a0>,\n",
       " <KeyPoint 0x7f76d7cb05d0>,\n",
       " <KeyPoint 0x7f76d7cb0600>,\n",
       " <KeyPoint 0x7f76d7cb0630>,\n",
       " <KeyPoint 0x7f76d7cb0660>,\n",
       " <KeyPoint 0x7f76d7cb0690>,\n",
       " <KeyPoint 0x7f76d7cb06c0>,\n",
       " <KeyPoint 0x7f76d7cb06f0>,\n",
       " <KeyPoint 0x7f76d7cb0720>,\n",
       " <KeyPoint 0x7f76d7cb0750>,\n",
       " <KeyPoint 0x7f76d7cb0780>,\n",
       " <KeyPoint 0x7f76d7cb07b0>,\n",
       " <KeyPoint 0x7f76d7cb07e0>,\n",
       " <KeyPoint 0x7f76d7cb0810>,\n",
       " <KeyPoint 0x7f76d7cb0840>,\n",
       " <KeyPoint 0x7f76d7cb0870>,\n",
       " <KeyPoint 0x7f76d7cb08a0>,\n",
       " <KeyPoint 0x7f76d7cb08d0>,\n",
       " <KeyPoint 0x7f76d7cb0900>,\n",
       " <KeyPoint 0x7f76d7cb0930>,\n",
       " <KeyPoint 0x7f76d7cb0960>,\n",
       " <KeyPoint 0x7f76d7cb0990>,\n",
       " <KeyPoint 0x7f76d7cb09c0>,\n",
       " <KeyPoint 0x7f76d7cb09f0>,\n",
       " <KeyPoint 0x7f76d7cb0a20>,\n",
       " <KeyPoint 0x7f76d7cb0a50>,\n",
       " <KeyPoint 0x7f76d7cb0a80>,\n",
       " <KeyPoint 0x7f76d7cb0ab0>,\n",
       " <KeyPoint 0x7f76d7cb0ae0>,\n",
       " <KeyPoint 0x7f76d7cb0b10>,\n",
       " <KeyPoint 0x7f76d7cb0b40>,\n",
       " <KeyPoint 0x7f76d7cb0b70>,\n",
       " <KeyPoint 0x7f76d7cb0ba0>,\n",
       " <KeyPoint 0x7f76d7cb0bd0>,\n",
       " <KeyPoint 0x7f76d7cb0c00>,\n",
       " <KeyPoint 0x7f76d7cb0c30>,\n",
       " <KeyPoint 0x7f76d7cb0c60>,\n",
       " <KeyPoint 0x7f76d7cb0c90>,\n",
       " <KeyPoint 0x7f76d7cb0cc0>,\n",
       " <KeyPoint 0x7f76d7cb0cf0>,\n",
       " <KeyPoint 0x7f76d7cb0d20>,\n",
       " <KeyPoint 0x7f76d7cb0d50>,\n",
       " <KeyPoint 0x7f76d7cb0d80>,\n",
       " <KeyPoint 0x7f76d7cb0db0>,\n",
       " <KeyPoint 0x7f76d7cb0de0>,\n",
       " <KeyPoint 0x7f76d7cb0e10>,\n",
       " <KeyPoint 0x7f76d7cb0e40>,\n",
       " <KeyPoint 0x7f76d7cb0e70>,\n",
       " <KeyPoint 0x7f76d7cb0ea0>,\n",
       " <KeyPoint 0x7f76d7cb0ed0>,\n",
       " <KeyPoint 0x7f76d7cb0f00>,\n",
       " <KeyPoint 0x7f76d7cb0f30>,\n",
       " <KeyPoint 0x7f76d7cb0f60>,\n",
       " <KeyPoint 0x7f76d7cb0f90>,\n",
       " <KeyPoint 0x7f76d7cb0fc0>,\n",
       " <KeyPoint 0x7f76d7cb1030>,\n",
       " <KeyPoint 0x7f76d7cb1060>,\n",
       " <KeyPoint 0x7f76d7cb1090>,\n",
       " <KeyPoint 0x7f76d7cb10c0>,\n",
       " <KeyPoint 0x7f76d7cb10f0>,\n",
       " <KeyPoint 0x7f76d7cb1120>,\n",
       " <KeyPoint 0x7f76d7cb1150>,\n",
       " <KeyPoint 0x7f76d7cb1180>,\n",
       " <KeyPoint 0x7f76d7cb11b0>,\n",
       " <KeyPoint 0x7f76d7cb11e0>,\n",
       " <KeyPoint 0x7f76d7cb1210>,\n",
       " <KeyPoint 0x7f76d7cb1240>,\n",
       " <KeyPoint 0x7f76d7cb1270>,\n",
       " <KeyPoint 0x7f76d7cb12a0>,\n",
       " <KeyPoint 0x7f76d7cb12d0>,\n",
       " <KeyPoint 0x7f76d7cb1300>,\n",
       " <KeyPoint 0x7f76d7cb1330>,\n",
       " <KeyPoint 0x7f76d7cb1360>,\n",
       " <KeyPoint 0x7f76d7cb1390>,\n",
       " <KeyPoint 0x7f76d7cb13c0>,\n",
       " <KeyPoint 0x7f76d7cb13f0>,\n",
       " <KeyPoint 0x7f76d7cb1420>,\n",
       " <KeyPoint 0x7f76d7cb1450>,\n",
       " <KeyPoint 0x7f76d7cb1480>,\n",
       " <KeyPoint 0x7f76d7cb14b0>,\n",
       " <KeyPoint 0x7f76d7cb14e0>,\n",
       " <KeyPoint 0x7f76d7cb1510>,\n",
       " <KeyPoint 0x7f76d7cb1540>,\n",
       " <KeyPoint 0x7f76d7cb1570>,\n",
       " <KeyPoint 0x7f76d7cb15a0>,\n",
       " <KeyPoint 0x7f76d7cb15d0>,\n",
       " <KeyPoint 0x7f76d7cb1600>,\n",
       " <KeyPoint 0x7f76d7cb1630>,\n",
       " <KeyPoint 0x7f76d7cb1660>,\n",
       " <KeyPoint 0x7f76d7cb1690>,\n",
       " <KeyPoint 0x7f76d7cb16c0>,\n",
       " <KeyPoint 0x7f76d7cb16f0>,\n",
       " <KeyPoint 0x7f76d7cb1720>,\n",
       " <KeyPoint 0x7f76d7cb1750>,\n",
       " <KeyPoint 0x7f76d7cb1780>,\n",
       " <KeyPoint 0x7f76d7cb17b0>,\n",
       " <KeyPoint 0x7f76d7cb17e0>,\n",
       " <KeyPoint 0x7f76d7cb1810>,\n",
       " <KeyPoint 0x7f76d7cb1840>,\n",
       " <KeyPoint 0x7f76d7cb1870>,\n",
       " <KeyPoint 0x7f76d7cb18a0>,\n",
       " <KeyPoint 0x7f76d7cb18d0>,\n",
       " <KeyPoint 0x7f76d7cb1900>,\n",
       " <KeyPoint 0x7f76d7cb1930>,\n",
       " <KeyPoint 0x7f76d7cb1960>,\n",
       " <KeyPoint 0x7f76d7cb1990>,\n",
       " <KeyPoint 0x7f76d7cb19c0>,\n",
       " <KeyPoint 0x7f76d7cb19f0>,\n",
       " <KeyPoint 0x7f76d7cb1a20>,\n",
       " <KeyPoint 0x7f76d7cb1a50>,\n",
       " <KeyPoint 0x7f76d7cb1a80>,\n",
       " <KeyPoint 0x7f76d7cb1ab0>,\n",
       " <KeyPoint 0x7f76d7cb1ae0>,\n",
       " <KeyPoint 0x7f76d7cb1b10>,\n",
       " <KeyPoint 0x7f76d7cb1b40>,\n",
       " <KeyPoint 0x7f76d7cb1b70>,\n",
       " <KeyPoint 0x7f76d7cb1ba0>,\n",
       " <KeyPoint 0x7f76d7cb1bd0>,\n",
       " <KeyPoint 0x7f76d7cb1c00>,\n",
       " <KeyPoint 0x7f76d7cb1c30>,\n",
       " <KeyPoint 0x7f76d7cb1c60>,\n",
       " <KeyPoint 0x7f76d7cb1c90>,\n",
       " <KeyPoint 0x7f76d7cb1cc0>,\n",
       " <KeyPoint 0x7f76d7cb1cf0>,\n",
       " <KeyPoint 0x7f76d7cb1d20>,\n",
       " <KeyPoint 0x7f76d7cb1d50>,\n",
       " <KeyPoint 0x7f76d7cb1d80>,\n",
       " <KeyPoint 0x7f76d7cb1db0>,\n",
       " <KeyPoint 0x7f76d7cb1de0>,\n",
       " <KeyPoint 0x7f76d7cb1e10>,\n",
       " <KeyPoint 0x7f76d7cb1e40>,\n",
       " <KeyPoint 0x7f76d7cb1e70>,\n",
       " <KeyPoint 0x7f76d7cb1ea0>,\n",
       " <KeyPoint 0x7f76d7cb1ed0>,\n",
       " <KeyPoint 0x7f76d7cb1f00>,\n",
       " <KeyPoint 0x7f76d7cb1f30>,\n",
       " <KeyPoint 0x7f76d7cb1f60>,\n",
       " <KeyPoint 0x7f76d7cb1f90>,\n",
       " <KeyPoint 0x7f76d7cb1fc0>,\n",
       " <KeyPoint 0x7f76d7cb2030>,\n",
       " <KeyPoint 0x7f76d7cb2060>,\n",
       " <KeyPoint 0x7f76d7cb2090>,\n",
       " <KeyPoint 0x7f76d7cb20c0>,\n",
       " <KeyPoint 0x7f76d7cb20f0>,\n",
       " <KeyPoint 0x7f76d7cb2120>,\n",
       " <KeyPoint 0x7f76d7cb2150>,\n",
       " <KeyPoint 0x7f76d7cb2180>,\n",
       " <KeyPoint 0x7f76d7cb21b0>,\n",
       " <KeyPoint 0x7f76d7cb21e0>,\n",
       " <KeyPoint 0x7f76d7cb2210>,\n",
       " <KeyPoint 0x7f76d7cb2240>,\n",
       " <KeyPoint 0x7f76d7cb2270>,\n",
       " <KeyPoint 0x7f76d7cb22a0>,\n",
       " <KeyPoint 0x7f76d7cb22d0>,\n",
       " <KeyPoint 0x7f76d7cb2300>,\n",
       " <KeyPoint 0x7f76d7cb2330>,\n",
       " <KeyPoint 0x7f76d7cb2360>,\n",
       " <KeyPoint 0x7f76d7cb2390>,\n",
       " <KeyPoint 0x7f76d7cb23c0>,\n",
       " <KeyPoint 0x7f76d7cb23f0>,\n",
       " <KeyPoint 0x7f76d7cb2420>,\n",
       " <KeyPoint 0x7f76d7cb2450>,\n",
       " <KeyPoint 0x7f76d7cb2480>,\n",
       " <KeyPoint 0x7f76d7cb24b0>,\n",
       " <KeyPoint 0x7f76d7cb24e0>,\n",
       " <KeyPoint 0x7f76d7cb2510>,\n",
       " <KeyPoint 0x7f76d7cb2540>,\n",
       " <KeyPoint 0x7f76d7cb2570>,\n",
       " <KeyPoint 0x7f76d7cb25a0>,\n",
       " <KeyPoint 0x7f76d7cb25d0>,\n",
       " <KeyPoint 0x7f76d7cb2600>,\n",
       " <KeyPoint 0x7f76d7cb2630>,\n",
       " <KeyPoint 0x7f76d7cb2660>,\n",
       " <KeyPoint 0x7f76d7cb2690>,\n",
       " <KeyPoint 0x7f76d7cb26c0>,\n",
       " <KeyPoint 0x7f76d7cb26f0>,\n",
       " <KeyPoint 0x7f76d7cb2720>,\n",
       " <KeyPoint 0x7f76d7cb2750>,\n",
       " <KeyPoint 0x7f76d7cb2780>,\n",
       " <KeyPoint 0x7f76d7cb27b0>,\n",
       " <KeyPoint 0x7f76d7cb27e0>,\n",
       " <KeyPoint 0x7f76d7cb2810>,\n",
       " <KeyPoint 0x7f76d7cb2840>,\n",
       " <KeyPoint 0x7f76d7cb2870>,\n",
       " <KeyPoint 0x7f76d7cb28a0>,\n",
       " <KeyPoint 0x7f76d7cb28d0>,\n",
       " <KeyPoint 0x7f76d7cb2900>,\n",
       " <KeyPoint 0x7f76d7cb2930>,\n",
       " <KeyPoint 0x7f76d7cb2960>,\n",
       " <KeyPoint 0x7f76d7cb2990>,\n",
       " <KeyPoint 0x7f76d7cb29c0>,\n",
       " <KeyPoint 0x7f76d7cb29f0>,\n",
       " <KeyPoint 0x7f76d7cb2a20>,\n",
       " <KeyPoint 0x7f76d7cb2a50>,\n",
       " <KeyPoint 0x7f76d7cb2a80>,\n",
       " <KeyPoint 0x7f76d7cb2ab0>,\n",
       " <KeyPoint 0x7f76d7cb2ae0>,\n",
       " <KeyPoint 0x7f76d7cb2b10>,\n",
       " <KeyPoint 0x7f76d7cb2b40>,\n",
       " <KeyPoint 0x7f76d7cb2b70>,\n",
       " <KeyPoint 0x7f76d7cb2ba0>,\n",
       " <KeyPoint 0x7f76d7cb2bd0>,\n",
       " <KeyPoint 0x7f76d7cb2c00>,\n",
       " <KeyPoint 0x7f76d7cb2c30>,\n",
       " <KeyPoint 0x7f76d7cb2c60>,\n",
       " <KeyPoint 0x7f76d7cb2c90>,\n",
       " <KeyPoint 0x7f76d7cb2cc0>,\n",
       " <KeyPoint 0x7f76d7cb2cf0>,\n",
       " <KeyPoint 0x7f76d7cb2d20>,\n",
       " <KeyPoint 0x7f76d7cb2d50>,\n",
       " <KeyPoint 0x7f76d7cb2d80>,\n",
       " <KeyPoint 0x7f76d7cb2db0>,\n",
       " <KeyPoint 0x7f76d7cb2de0>,\n",
       " <KeyPoint 0x7f76d7cb2e10>,\n",
       " <KeyPoint 0x7f76d7cb2e40>,\n",
       " <KeyPoint 0x7f76d7cb2e70>,\n",
       " <KeyPoint 0x7f76d7cb2ea0>,\n",
       " <KeyPoint 0x7f76d7cb2ed0>,\n",
       " <KeyPoint 0x7f76d7cb2f00>,\n",
       " <KeyPoint 0x7f76d7cb2f30>,\n",
       " <KeyPoint 0x7f76d7cb2f60>,\n",
       " <KeyPoint 0x7f76d7cb2f90>,\n",
       " <KeyPoint 0x7f76d7cb2fc0>,\n",
       " <KeyPoint 0x7f76d7cb3030>,\n",
       " <KeyPoint 0x7f76d7cb3060>,\n",
       " <KeyPoint 0x7f76d7cb3090>,\n",
       " <KeyPoint 0x7f76d7cb30c0>,\n",
       " <KeyPoint 0x7f76d7cb30f0>,\n",
       " <KeyPoint 0x7f76d7cb3120>,\n",
       " <KeyPoint 0x7f76d7cb3150>,\n",
       " <KeyPoint 0x7f76d7cb3180>,\n",
       " <KeyPoint 0x7f76d7cb31b0>,\n",
       " <KeyPoint 0x7f76d7cb31e0>,\n",
       " <KeyPoint 0x7f76d7cb3210>,\n",
       " <KeyPoint 0x7f76d7cb3240>,\n",
       " <KeyPoint 0x7f76d7cb3270>,\n",
       " <KeyPoint 0x7f76d7cb32a0>,\n",
       " <KeyPoint 0x7f76d7cb32d0>,\n",
       " <KeyPoint 0x7f76d7cb3300>,\n",
       " <KeyPoint 0x7f76d7cb3330>,\n",
       " <KeyPoint 0x7f76d7cb3360>,\n",
       " <KeyPoint 0x7f76d7cb3390>,\n",
       " <KeyPoint 0x7f76d7cb33c0>,\n",
       " <KeyPoint 0x7f76d7cb33f0>,\n",
       " <KeyPoint 0x7f76d7cb3420>,\n",
       " <KeyPoint 0x7f76d7cb3450>,\n",
       " <KeyPoint 0x7f76d7cb3480>,\n",
       " <KeyPoint 0x7f76d7cb34b0>,\n",
       " <KeyPoint 0x7f76d7cb34e0>,\n",
       " <KeyPoint 0x7f76d7cb3510>,\n",
       " <KeyPoint 0x7f76d7cb3540>,\n",
       " <KeyPoint 0x7f76d7cb3570>,\n",
       " <KeyPoint 0x7f76d7cb35a0>,\n",
       " <KeyPoint 0x7f76d7cb35d0>,\n",
       " <KeyPoint 0x7f76d7cb3600>,\n",
       " <KeyPoint 0x7f76d7cb3630>,\n",
       " <KeyPoint 0x7f76d7cb3660>,\n",
       " <KeyPoint 0x7f76d7cb3690>,\n",
       " <KeyPoint 0x7f76d7cb36c0>,\n",
       " <KeyPoint 0x7f76d7cb36f0>,\n",
       " <KeyPoint 0x7f76d7cb3720>,\n",
       " <KeyPoint 0x7f76d7cb3750>,\n",
       " <KeyPoint 0x7f76d7cb3780>,\n",
       " <KeyPoint 0x7f76d7cb37b0>,\n",
       " <KeyPoint 0x7f76d7cb37e0>,\n",
       " <KeyPoint 0x7f76d7cb3810>,\n",
       " <KeyPoint 0x7f76d7cb3840>,\n",
       " <KeyPoint 0x7f76d7cb3870>,\n",
       " <KeyPoint 0x7f76d7cb38a0>,\n",
       " <KeyPoint 0x7f76d7cb38d0>,\n",
       " <KeyPoint 0x7f76d7cb3900>,\n",
       " <KeyPoint 0x7f76d7cb3930>,\n",
       " <KeyPoint 0x7f76d7cb3960>,\n",
       " <KeyPoint 0x7f76d7cb3990>,\n",
       " <KeyPoint 0x7f76d7cb39c0>,\n",
       " <KeyPoint 0x7f76d7cb39f0>,\n",
       " <KeyPoint 0x7f76d7cb3a20>,\n",
       " <KeyPoint 0x7f76d7cb3a50>,\n",
       " <KeyPoint 0x7f76d7cb3a80>,\n",
       " <KeyPoint 0x7f76d7cb3ab0>,\n",
       " <KeyPoint 0x7f76d7cb3ae0>,\n",
       " <KeyPoint 0x7f76d7cb3b10>,\n",
       " <KeyPoint 0x7f76d7cb3b40>,\n",
       " <KeyPoint 0x7f76d7cb3b70>,\n",
       " <KeyPoint 0x7f76d7cb3ba0>,\n",
       " <KeyPoint 0x7f76d7cb3bd0>,\n",
       " <KeyPoint 0x7f76d7cb3c00>,\n",
       " <KeyPoint 0x7f76d7cb3c30>,\n",
       " <KeyPoint 0x7f76d7cb3c60>,\n",
       " <KeyPoint 0x7f76d7cb3c90>,\n",
       " <KeyPoint 0x7f76d7cb3cc0>,\n",
       " <KeyPoint 0x7f76d7cb3cf0>,\n",
       " <KeyPoint 0x7f76d7cb3d20>,\n",
       " <KeyPoint 0x7f76d7cb3d50>,\n",
       " <KeyPoint 0x7f76d7cb3d80>,\n",
       " <KeyPoint 0x7f76d7cb3db0>,\n",
       " <KeyPoint 0x7f76d7cb3de0>,\n",
       " <KeyPoint 0x7f76d7cb3e10>,\n",
       " <KeyPoint 0x7f76d7cb3e40>,\n",
       " <KeyPoint 0x7f76d7cb3e70>,\n",
       " <KeyPoint 0x7f76d7cb3ea0>,\n",
       " <KeyPoint 0x7f76d7cb3ed0>,\n",
       " <KeyPoint 0x7f76d7cb3f00>,\n",
       " <KeyPoint 0x7f76d7cb3f30>,\n",
       " <KeyPoint 0x7f76d7cb3f60>,\n",
       " <KeyPoint 0x7f76d7cb3f90>,\n",
       " <KeyPoint 0x7f76d7cb3fc0>,\n",
       " <KeyPoint 0x7f76d7cb4030>,\n",
       " <KeyPoint 0x7f76d7cb4060>,\n",
       " <KeyPoint 0x7f76d7cb4090>,\n",
       " <KeyPoint 0x7f76d7cb40c0>,\n",
       " <KeyPoint 0x7f76d7cb40f0>,\n",
       " <KeyPoint 0x7f76d7cb4120>,\n",
       " <KeyPoint 0x7f76d7cb4150>,\n",
       " <KeyPoint 0x7f76d7cb4180>,\n",
       " <KeyPoint 0x7f76d7cb41b0>,\n",
       " <KeyPoint 0x7f76d7cb41e0>,\n",
       " <KeyPoint 0x7f76d7cb4210>,\n",
       " <KeyPoint 0x7f76d7cb4240>,\n",
       " <KeyPoint 0x7f76d7cb4270>,\n",
       " <KeyPoint 0x7f76d7cb42a0>,\n",
       " <KeyPoint 0x7f76d7cb42d0>,\n",
       " <KeyPoint 0x7f76d7cb4300>,\n",
       " <KeyPoint 0x7f76d7cb4330>,\n",
       " <KeyPoint 0x7f76d7cb4360>,\n",
       " <KeyPoint 0x7f76d7cb4390>,\n",
       " <KeyPoint 0x7f76d7cb43c0>,\n",
       " <KeyPoint 0x7f76d7cb43f0>,\n",
       " <KeyPoint 0x7f76d7cb4420>,\n",
       " <KeyPoint 0x7f76d7cb4450>,\n",
       " <KeyPoint 0x7f76d7cb4480>,\n",
       " <KeyPoint 0x7f76d7cb44b0>,\n",
       " <KeyPoint 0x7f76d7cb44e0>,\n",
       " <KeyPoint 0x7f76d7cb4510>,\n",
       " <KeyPoint 0x7f76d7cb4540>,\n",
       " <KeyPoint 0x7f76d7cb4570>,\n",
       " <KeyPoint 0x7f76d7cb45a0>,\n",
       " <KeyPoint 0x7f76d7cb45d0>,\n",
       " <KeyPoint 0x7f76d7cb4600>,\n",
       " <KeyPoint 0x7f76d7cb4630>,\n",
       " <KeyPoint 0x7f76d7cb4660>,\n",
       " <KeyPoint 0x7f76d7cb4690>,\n",
       " <KeyPoint 0x7f76d7cb46c0>,\n",
       " <KeyPoint 0x7f76d7cb46f0>,\n",
       " <KeyPoint 0x7f76d7cb4720>,\n",
       " <KeyPoint 0x7f76d7cb4750>,\n",
       " <KeyPoint 0x7f76d7cb4780>,\n",
       " <KeyPoint 0x7f76d7cb47b0>,\n",
       " <KeyPoint 0x7f76d7cb47e0>,\n",
       " <KeyPoint 0x7f76d7cb4810>,\n",
       " <KeyPoint 0x7f76d7cb4840>,\n",
       " <KeyPoint 0x7f76d7cb4870>,\n",
       " <KeyPoint 0x7f76d7cb48a0>,\n",
       " <KeyPoint 0x7f76d7cb48d0>,\n",
       " <KeyPoint 0x7f76d7cb4900>,\n",
       " <KeyPoint 0x7f76d7cb4930>,\n",
       " <KeyPoint 0x7f76d7cb4960>,\n",
       " <KeyPoint 0x7f76d7cb4990>,\n",
       " <KeyPoint 0x7f76d7cb49c0>,\n",
       " <KeyPoint 0x7f76d7cb49f0>,\n",
       " <KeyPoint 0x7f76d7cb4a20>,\n",
       " <KeyPoint 0x7f76d7cb4a50>,\n",
       " <KeyPoint 0x7f76d7cb4a80>,\n",
       " <KeyPoint 0x7f76d7cb4ab0>,\n",
       " <KeyPoint 0x7f76d7cb4ae0>,\n",
       " <KeyPoint 0x7f76d7cb4b10>,\n",
       " <KeyPoint 0x7f76d7cb4b40>,\n",
       " <KeyPoint 0x7f76d7cb4b70>,\n",
       " <KeyPoint 0x7f76d7cb4ba0>,\n",
       " <KeyPoint 0x7f76d7cb4bd0>,\n",
       " <KeyPoint 0x7f76d7cb4c00>,\n",
       " <KeyPoint 0x7f76d7cb4c30>,\n",
       " <KeyPoint 0x7f76d7cb4c60>,\n",
       " <KeyPoint 0x7f76d7cb4c90>,\n",
       " <KeyPoint 0x7f76d7cb4cc0>,\n",
       " <KeyPoint 0x7f76d7cb4cf0>,\n",
       " <KeyPoint 0x7f76d7cb4d20>,\n",
       " <KeyPoint 0x7f76d7cb4d50>,\n",
       " <KeyPoint 0x7f76d7cb4d80>,\n",
       " <KeyPoint 0x7f76d7cb4db0>,\n",
       " <KeyPoint 0x7f76d7cb4de0>,\n",
       " <KeyPoint 0x7f76d7cb4e10>,\n",
       " <KeyPoint 0x7f76d7cb4e40>,\n",
       " <KeyPoint 0x7f76d7cb4e70>,\n",
       " <KeyPoint 0x7f76d7cb4ea0>,\n",
       " <KeyPoint 0x7f76d7cb4ed0>,\n",
       " <KeyPoint 0x7f76d7cb4f00>,\n",
       " <KeyPoint 0x7f76d7cb4f30>,\n",
       " <KeyPoint 0x7f76d7cb4f60>,\n",
       " <KeyPoint 0x7f76d7cb4f90>,\n",
       " <KeyPoint 0x7f76d7cb4fc0>,\n",
       " <KeyPoint 0x7f76d7cb5030>,\n",
       " <KeyPoint 0x7f76d7cb5060>,\n",
       " <KeyPoint 0x7f76d7cb5090>,\n",
       " <KeyPoint 0x7f76d7cb50c0>,\n",
       " <KeyPoint 0x7f76d7cb50f0>,\n",
       " <KeyPoint 0x7f76d7cb5120>,\n",
       " <KeyPoint 0x7f76d7cb5150>,\n",
       " <KeyPoint 0x7f76d7cb5180>,\n",
       " <KeyPoint 0x7f76d7cb51b0>,\n",
       " <KeyPoint 0x7f76d7cb51e0>,\n",
       " <KeyPoint 0x7f76d7cb5210>,\n",
       " <KeyPoint 0x7f76d7cb5240>,\n",
       " <KeyPoint 0x7f76d7cb5270>,\n",
       " <KeyPoint 0x7f76d7cb52a0>,\n",
       " <KeyPoint 0x7f76d7cb52d0>,\n",
       " <KeyPoint 0x7f76d7cb5300>,\n",
       " <KeyPoint 0x7f76d7cb5330>,\n",
       " <KeyPoint 0x7f76d7cb5360>,\n",
       " <KeyPoint 0x7f76d7cb5390>,\n",
       " <KeyPoint 0x7f76d7cb53c0>,\n",
       " <KeyPoint 0x7f76d7cb53f0>,\n",
       " ...]"
      ]
     },
     "execution_count": 13,
     "metadata": {},
     "output_type": "execute_result"
    }
   ],
   "source": [
    "kp_left"
   ]
  }
 ],
 "metadata": {
  "kernelspec": {
   "display_name": "cvip_base",
   "language": "python",
   "name": "cvip_base"
  },
  "language_info": {
   "codemirror_mode": {
    "name": "ipython",
    "version": 3
   },
   "file_extension": ".py",
   "mimetype": "text/x-python",
   "name": "python",
   "nbconvert_exporter": "python",
   "pygments_lexer": "ipython3",
   "version": "3.7.12"
  }
 },
 "nbformat": 4,
 "nbformat_minor": 5
}
